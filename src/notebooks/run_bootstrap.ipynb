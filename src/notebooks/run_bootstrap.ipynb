{
 "cells": [
  {
   "cell_type": "code",
   "execution_count": 1,
   "id": "advanced-constitutional",
   "metadata": {},
   "outputs": [],
   "source": [
    "DATA_PATH=\"/notebook/nas-trainings/arne/DGFISMA/DATA/doc_classifier/DATA_DUMP_13_08_ALL/EURLEX\"\n",
    "import glob\n",
    "import os\n",
    "import jsonlines\n",
    "eurlex_files=glob.glob( os.path.join( DATA_PATH, \"*.jsonl\" ))"
   ]
  },
  {
   "cell_type": "markdown",
   "id": "alleged-webmaster",
   "metadata": {},
   "source": [
    "#### Create traning set for document classification using business rules:"
   ]
  },
  {
   "cell_type": "code",
   "execution_count": 2,
   "id": "annual-forge",
   "metadata": {},
   "outputs": [],
   "source": [
    "import sys\n",
    "sys.path.append( \"/notebook/nas-trainings/arne/DGFISMA_doc_classification/src/businessrules\")\n",
    "from business_rules import bootstrap\n",
    "\n",
    "bootstrap( DATA_PATH  ,  \"/notebook/nas-trainings/arne/DGFISMA_doc_classification/DATA\" )"
   ]
  },
  {
   "cell_type": "markdown",
   "id": "local-keeping",
   "metadata": {},
   "source": [
    "#### Inspect train data:"
   ]
  },
  {
   "cell_type": "code",
   "execution_count": 3,
   "id": "alternate-finder",
   "metadata": {},
   "outputs": [],
   "source": [
    "import pandas as pd\n",
    "data=pd.read_csv( \"/notebook/nas-trainings/arne/DGFISMA_doc_classification/DATA/train_data.tsv\"   , sep='\\t' , header=None ) \n",
    "train_data=data[0].tolist()\n",
    "train_labels=data[2].tolist()\n"
   ]
  },
  {
   "cell_type": "code",
   "execution_count": 4,
   "id": "decent-curve",
   "metadata": {},
   "outputs": [],
   "source": [
    "from base64 import b64decode, b64encode\n",
    "import string\n",
    "train_data=[ b64decode( doc ).decode().translate(str.maketrans('', '', string.punctuation+'0123456789'  )) for doc in train_data  ]\n"
   ]
  },
  {
   "cell_type": "code",
   "execution_count": 6,
   "id": "prepared-quantity",
   "metadata": {},
   "outputs": [
    {
     "data": {
      "text/plain": [
       "Counter({1: 3863, 0: 8093})"
      ]
     },
     "execution_count": 6,
     "metadata": {},
     "output_type": "execute_result"
    }
   ],
   "source": [
    "from collections import Counter\n",
    "Counter(  train_labels  )"
   ]
  },
  {
   "cell_type": "code",
   "execution_count": null,
   "id": "cda7188c-5781-477d-a68c-0932659cd3cb",
   "metadata": {},
   "outputs": [],
   "source": []
  },
  {
   "cell_type": "code",
   "execution_count": null,
   "id": "5b857f37-e313-4bf4-9667-7e1159da6e7f",
   "metadata": {},
   "outputs": [],
   "source": []
  },
  {
   "cell_type": "markdown",
   "id": "d1bfa990-90b5-49d9-b5be-4d9d20589e8d",
   "metadata": {},
   "source": [
    "### END"
   ]
  },
  {
   "cell_type": "code",
   "execution_count": null,
   "id": "cd87022d-13d0-4cf4-b3f3-275e991f4dc4",
   "metadata": {},
   "outputs": [],
   "source": [
    "from business_rules import bootstrap\n",
    "\n",
    "bootstrap( \"PATH_TO_JSONL_FILES\"  , \"OUTPUT_DIR\" )"
   ]
  },
  {
   "cell_type": "code",
   "execution_count": 72,
   "id": "e8081ede-595f-436c-b6e4-d355bfc86bfb",
   "metadata": {},
   "outputs": [],
   "source": [
    "encoded_doc1 = b64encode( \"Avis juridique important | 31999D0352 1999/352/EC, ECSC, Euratom: Commission Decision of 28 April 1999 establishing the European Anti-fraud Office (OLAF) (notified under document number SEC(1999) 802) Official Jo\" .encode()).decode()\n",
    "encoded_doc2 = b64encode( \"| 31999D0352 1999/352/EC, ECSC, Euratom: Commission Decision of 28 April 2000 establishing the (notified under document number SEC(1999) 802) Official Jo\" .encode()).decode()"
   ]
  },
  {
   "cell_type": "code",
   "execution_count": 73,
   "id": "f4434920-9723-462b-a497-8922796d730b",
   "metadata": {},
   "outputs": [
    {
     "name": "stdout",
     "output_type": "stream",
     "text": [
      "QXZpcyBqdXJpZGlxdWUgaW1wb3J0YW50IHwgMzE5OTlEMDM1MiAxOTk5LzM1Mi9FQywgRUNTQywgRXVyYXRvbTogQ29tbWlzc2lvbiBEZWNpc2lvbiBvZiAyOCBBcHJpbCAxOTk5IGVzdGFibGlzaGluZyB0aGUgRXVyb3BlYW4gQW50aS1mcmF1ZCBPZmZpY2UgKE9MQUYpIChub3RpZmllZCB1bmRlciBkb2N1bWVudCBudW1iZXIgU0VDKDE5OTkpIDgwMikgT2ZmaWNpYWwgSm8=\taccepted\t1\n",
      "fCAzMTk5OUQwMzUyIDE5OTkvMzUyL0VDLCBFQ1NDLCBFdXJhdG9tOiBDb21taXNzaW9uIERlY2lzaW9uIG9mIDI4IEFwcmlsIDIwMDAgZXN0YWJsaXNoaW5nIHRoZSAobm90aWZpZWQgdW5kZXIgZG9jdW1lbnQgbnVtYmVyIFNFQygxOTk5KSA4MDIpIE9mZmljaWFsIEpv\trejected\t0\n",
      "...\n"
     ]
    }
   ],
   "source": [
    "print( f\"{encoded_doc1}\\taccepted\\t1\"  )\n",
    "print( f\"{encoded_doc2}\\trejected\\t0\"  )\n",
    "print( \"...\")\n"
   ]
  },
  {
   "cell_type": "code",
   "execution_count": null,
   "id": "4de136d7-1b6d-4e0a-91f8-2033c7ab6770",
   "metadata": {},
   "outputs": [],
   "source": [
    "f\"{encoded_doc.decode()  }\\t{ label_name }\\t{label}\""
   ]
  },
  {
   "cell_type": "code",
   "execution_count": null,
   "id": "d165c838-87ee-4224-91a1-b9ef9154f414",
   "metadata": {},
   "outputs": [],
   "source": []
  },
  {
   "cell_type": "code",
   "execution_count": 42,
   "id": "partial-banana",
   "metadata": {},
   "outputs": [],
   "source": [
    "import pandas as pd\n",
    "data=pd.read_csv( \"/notebook/nas-trainings/arne/repo_doc_classification_DGFISMA/DGFISMA_doc_classification/DATA/train_data.tsv\"  , sep='\\t' , header=None ) \n",
    "train_data=data[0].tolist()\n",
    "train_labels=data[2].tolist()\n"
   ]
  },
  {
   "cell_type": "code",
   "execution_count": 43,
   "id": "2ba1c7ee-c68e-44d9-8822-dd2089f714c2",
   "metadata": {},
   "outputs": [],
   "source": [
    "from base64 import b64decode, b64encode\n",
    "import string\n",
    "\n",
    "train_data=[ b64decode( doc ).decode() for doc in train_data  ]\n",
    "\n",
    "#train_data=[ b64decode( doc ).decode().translate(str.maketrans('', '', string.punctuation+'0123456789'  )) for doc in train_data  ]"
   ]
  },
  {
   "cell_type": "code",
   "execution_count": 46,
   "id": "b98ee1dd-fc53-45b1-80c7-ab409263894e",
   "metadata": {
    "scrolled": true,
    "tags": []
   },
   "outputs": [
    {
     "name": "stdout",
     "output_type": "stream",
     "text": [
      "Avis juridique important | 31999D0352 1999/352/EC, ECSC, Euratom: Commission Decision of 28 April 1999 establishing the European Anti-fraud Office (OLAF) (notified under document number SEC(1999) 802) Official Journal L 136 , 31/05/1999 P. 0020 - 0022 COMMISSION DECISION of 28 April 1999 establishing the European Anti-fraud Office (OLAF) (notified under document number SEC(1999) 802) (1999/352/EC, ECSC, Euratom) THE COMMISSION OF THE EUROPEAN COMMUNITIES, Having regard to the Treaty establishing the European Community, and in particular Article 162 thereof, Having regard to the Treaty establishing the European Coal and Steel Community, and in particular Article 16 thereof, Having regard to the Treaty establishing the European Atomic Energy Community, and in particular Article 131 thereof, (1) Whereas the institutions and the Member States attach great importance to the protection of the Communities' financial interests and to the fight against fraud and any other illegal activities to the detriment of the Communities' financial interests; whereas the importance of action to that end is confirmed by Article 209a of the EC Treaty, Article 78i of the ECSC Treaty, Article 183a of the Euratom Treaty as well as by Article 280 of the EC Treaty as formulated by the Treaty of Amsterdam; (2) Whereas all available means need to be deployed to fully attain this objective, notably in terms of investigation functions devolved to the Community level, while the current allocation and balance of responsibilities as between the national and Community levels should be maintained; (3) Whereas the task of carrying out administrative investigations for the purpose of protecting the financial interests of the Communities has until now been conferred on the Task Force for Coordination of Fraud Prevention, which succeeded the Unit for the Coordination of Fraud Prevention (UCLAF); (4) Whereas the need to increase the effectiveness of the fight against fraud and other illegal activities detrimental to the financial interests of the Communities requires the establishment of a European Anti-fraud Office (OLAF), hereinafter referred to as \"the Office\" which must exercise its investigation powers in full independence; (5) Whereas the independence of the Director of the Office and the role of the Surveillance Committee arising from this Decision, and from the EC and Euratom Regulations concerning the investigations conducted by the Office, seek to guarantee the Office's proper conduct of investigations without interfering with its other tasks, such as those which are the prerogative of the Commission, in particular in matters of legislation; (6) Whereas the responsibility of the Office should involve, over and above the protection of financial interests, all the activities linked with the protection of Community interests from irregular acts likely to lead to administrative or penal proceedings; (7) Whereas the definition of the functions of the Office should include the tasks carried out up to now by the Task Force for Coordination of Fraud Prevention, in particular those tasks concerning the preparation of legislative and regulatory provisions in the areas of activity of this Office, including instruments which fall under Title VI of the Treaty on European Union, HAS DECIDED AS FOLLOWS: Article 1 Establishment of the Office A European Anti-fraud Office (OLAF), hereinafter referred to as \"the Office\", is hereby established. The Office shall replace the Task Force for Coordination of Fraud Prevention and take over all its tasks. Article 2 Tasks of the Office 1. The Office shall exercise the Commission's powers to carry out external administrative investigations for the purpose of strengthening the fight against fraud, corruption and any other illegal activity adversely affecting the Community's financial interests, as well as any other act or activity by operators in breach of Community provisions. The Office shall be responsible for carrying out internal administrative investigations intended: (a) to combat fraud, corruption and any other illegal activity adversely affecting the Community's financial interests, (b) to investigate serious facts linked to the performance of professional activities which may constitute a breach of obligations by officials and servants of the Communities likely to lead to disciplinary and, in appropriate cases, criminal proceedings or an analogous breach of obligations by Members of the institutions and bodies, heads of the bodies or members of staff of the institutions and bodies not subject to the Staff Regulations of Officials of the European Communities and the Conditions of Employment of Other Servants of the Communities. The Office shall exercise the Commission's powers as they are defined in the provisions established in the framework of the Treaties, and subject to the limits and conditions laid down therein. The Office may be entrusted with investigations in other areas by the Commission or by the other institutions or bodies. 2. The Office shall be responsible for providing the Commission's support in cooperating with the Member States in the area of the fight against fraud. 3. The Office shall be responsible for the activity of developing a concept for the fight against fraud as referred to in paragraph 1. 4. The Office shall be responsible for the preparation of legislative and regulatory initiatives of the Commission with the objective of fraud prevention as referred to in paragraph 1. 5. The Office shall be responsible for any other operational activity of the Commission in relation to the fight against fraud as referred to in paragraph 1, and in particular: (a) developing the necessary infrastructure; (b) ensuring the collection and analysis of information; (c) giving technical support, in particular in the area of training, to the other institutions or bodies as well as to the competent national authorities. 6. The Office shall be in direct contact with the police and judicial authorities. 7. The Office shall represent the Commission, at service level, in the forums concerned, in the fields covered by this Article. Article 3 Independence of the investigative function The Office shall exercise the powers of investigation referred to in Article 2(1) in complete independence. In exercising these powers, the Director of the Office shall neither seek nor take instructions from the Commission, any government or any other institution or body. Article 4 Surveillance Committee A Surveillance Committee shall be established, the composition and powers of which shall be laid down by the Community legislature. This Committee shall be responsible for the regular monitoring of the discharge by the Office of its investigative function. Article 5 Director 1. The Office shall be headed by a Director, nominated by the Commission, after consulting in European Parliament and the Council, for a term of five years, which may be renewed once. With a view to nominating the Director, the Commission shall, once a favourable opinion has been given by the Surveillance Committee, draw up a list of several suitably qualified candidates, following a call for applications which shall, if appropriate, be published in the Official Journal of the European Communities. The Director shall be responsible for the carrying out of investigations. 2. The Commission shall exercise, with regard to the Director, the powers conferred to the appointing authority. Any measure under Articles 87, 88 and 90 of the Staff Regulations of Officials of the European Communities shall be taken, after consulting the Surveillance Committee, by reasoned decision of the Commission. The decision shall be communicated for information to the European Parliament and the Council. Article 6 Operation of the Office 1. The Director of the Office shall exercise, with regard to the staff of the Office, the powers conferred by the Staff Regulations of Officials of the European Communities on the appointing authority and by the Conditions of Employment of Other Servants of the Communities on the authority authorised to conclude contracts of employment. He shall be permitted to delegate those powers. In accordance with the Staff Regulations and the Conditions of Employment of Other Servants, he shall lay down the conditions and detailed arrangements for recruitment, in particular as to the length of contracts and their renewal. 2. After consulting the Surveillance Committee, the Director shall send the Director-General for Budgets a preliminary draft budget to be entered in the special heading for the Office in the annual general budget. 3. The Director shall act as authorising officer for implementation of the special budget heading for part A of the budget, concerning the Office, and the specific anti-fraud headings of part B. He shall be permitted to delegate his powers. 4. Commission decisions concerning its internal organisation shall apply to the Office in so far as they are compatible with the provisions concerning the Office adopted by the Community legislator, with this Decision and with the detailed rules implementing it. Article 7 Effective date This Decision shall take effect on the date of the entry into force of the European Parliament and Council Regulation (EC) concerning investigations carried out by the European Anti-fraud Office. Up to the first day of the month following the appointment of the Director of the Office, the current business of the Office shall be dealt with by the Director of the Task Force for Coordination of Fraud Prevention. Done at Brussels, 28 April 1999. For the Commission The President Jacques SANTER Top\n"
     ]
    }
   ],
   "source": [
    "print( train_data[0] )"
   ]
  },
  {
   "cell_type": "code",
   "execution_count": null,
   "id": "6d5ef556-b2c5-4ab2-b234-383a625d6e95",
   "metadata": {},
   "outputs": [],
   "source": []
  },
  {
   "cell_type": "code",
   "execution_count": 25,
   "id": "2b528a72-22a3-4756-b734-e70d2da3eec8",
   "metadata": {},
   "outputs": [],
   "source": [
    "#train_data[0]"
   ]
  },
  {
   "cell_type": "code",
   "execution_count": 17,
   "id": "b77696fc-e7d0-4222-bb64-99bce10e45ea",
   "metadata": {},
   "outputs": [],
   "source": [
    "json_l=open( \"/notebook//nas-trainings/arne/DGFISMA/DATA/doc_classifier/DATA_DUMP_13_08_ALL/EURLEX/doc_c00c5a0c-feb9-5b98-a22f-9a92d0036831.jsonl\" ).read().split( \"\\n\" )\n"
   ]
  },
  {
   "cell_type": "code",
   "execution_count": 58,
   "id": "50af9988-2c36-4527-80b6-cdb6e2c1154a",
   "metadata": {},
   "outputs": [
    {
     "name": "stdout",
     "output_type": "stream",
     "text": [
      "celex id ['31985D0067']\n",
      "content: [\"\\n\\n\\n\\n\\n\\n\\n\\n\\t\\t\\t\\t\\t\\n\\t\\t\\t\\t\\t\\n\\t\\n\\t\\n\\t\\t\\t\\t\\t\\t\\t\\n\\t\\t\\t\\t\\t\\t\\t\\n\\t\\n\\t\\t\\t\\t\\t\\t\\t\\t\\n\\t\\t\\t\\t\\t\\t\\t\\t\\t\\n\\t\\t\\t\\t\\t\\t\\t        \\t\\n\\t\\t\\t\\t\\t\\t\\t        \\t\\t\\n\\n\\n\\n\\nAvis juridique important\\n\\n\\n\\n\\n\\n\\n\\n|\\n\\n\\n\\n\\n\\n31985D0067\\n\\n\\n85/67/EEC: Commission Decision of 21 December 1984 granting financial support to implement the Wexford Bypass project (Only the English text is authentic)  \\n\\n\\n\\n\\nOfficial Journal L 030 , 02/02/1985 P. 0022 - 0024\\n \\n\\n\\n\\n\\n\\n\\n\\n\\n*****\\nCOMMISSION  DECISION  \\nof 21 December 1984  \\ngranting financial support to implement the Wexford Bypass project  \\n(Only the English text is authentic)  \\n(85/67/EEC)  \\nTHE COMMISSION OF THE EUROPEAN  \\nCOMMUNITIES,  \\nHaving regard to the Treaty establishing the European Economic Community,  \\nHaving regard to Council Regulation (EEC) No 3620/84 of 19 December 1984 on the granting of limited support in the field of transport infrastructure (1),  \\nWhereas the Irish Government has applied to the Community for financial support towards the cost of the Wexford Bypass project,  \\nWhereas all the conditions required for the Community to grant financial support have been satisfied,  \\nHAS DECIDED AS FOLLOWS:  \\nArticle 1  \\nFinancial support totalling three million ECU is hereby granted to finance the work to implement the Wexford Bypass project.  \\nThe specifications for the work and the terms and conditions of payment are set out in the Annex.  \\nArticle 2  \\nThis Decision is addressed to Ireland.  \\nDone at Brussels, 21 December 1984.  \\nFor the Commission  \\nGiorgios CONTOGEORGIS  \\nMember of the Commission  \\n(1) OJ No L 333, 21. 12. 1984, p. 58.  \\nANNEX  \\nTerms and conditions attached to the award of Community assistance to Ireland for specified works on the Rosslare-Dublin-Belfast EO 1 road (Wexford Bypass)  \\n1. Location of the project  \\nThe project that is the subject of this Decision is situated on the principal road connecting Rosslare-Dublin-Belfast. The section concerned is the Wexford Bypass.  \\n2. Description of the project  \\nThe project concerns the construction of 9,2 kilometres of new road to bypass the town of Wexford on the EO 1.  \\nThe width of the carriageway is designed to be 7,5 m with 2 × 3 m hardshoulders and climbing lanes where necessary. Bridges will carry country lanes over the road and a roundabout will be constructed where the N25 Wexford-New Ross road crosses the Wexford Bypass.  \\n3. Timetable for the project  \\nWork on the project has already commenced. Completion is scheduled for 1986.  \\n4. Payment schedule  \\nThe Community agree to contribute towards the completion of the project to a maximum of three million ECU, the amount of financial support not exceeding 25 % of the total cost of the project. The total cost of the project is estimated at £ Irl 8,8 million (12,068 million ECU at May 1984 exchange rate).  \\nThe payment schedule shall be as follows:  \\nPayment 1:  \\nThe Commission will authorize an advance payment of not more than 30 % of the total grant.  \\nPayment 2:  \\nUpon receipt by the Commission of certified evidence that work equivalent to 70 % of the project, as defined below, has been completed, the Commission shall pay or cause to be paid a sum equivalent to 45 % of the total grant.  \\nIn order to qualify for the second payment the Commission will require evidence that the actual certified payments for the project have equalled or exceeded seventy percent (70 %) of the total cost noted above.  \\nPayment 3:  \\nUpon receipt of certified evidence that the project has been completed, the Commission shall pay or cause to be paid the remainder of the sum outstanding.  \\n5. Maintenance of accounts  \\nThe Commission requries that the Irish authorities responsible maintain accounts and all other information required by the Commission for the effective control over the expenditure on the project. The Commission reserves the right to require written evidence to be supplied during the course of the work of progress and to inspect the site of the works. The accounts of the project are to be maintained for at least four years after trhe completion of the works. 6. Certification of payments and control of the works  \\nIn respect of each payment the Commission will require from the responsible authorities:  \\n- a statement of the works undertaken sufficient to monitor progress. This statement is to be signed by the official responsible for the project to the Irish authorities,  \\n- a certified statement of the payments that have been made. Upon receipt of all payments from the Commission pursuant to this Decision the Commission will require a receipt to be issued.  \\n7. Responsible officials  \\nThe responsible authority for the execution of this Decision in Ireland is the Department of the Environment, Ireland.  \\nFor the Commission, the Head of Division 'Infrastructure Planning and Development', Directorate-General for Transport, is responsible for implementation.  \\n8. Publicity  \\nThe responsible authority is required to advertise assistance from the Community by erecting site notices.  \\n\\n\\n\\n\\n\\n\\n\\t\\t\\t\\t\\t\\t\\t\\t\\t\\t\\n\\n\\t\\t\\t\\t\\t\\t\\t\\t\\t\\tTop\\t\\n\\t\\n\\t\\n\\t\\n\\t\\t\\t\\n\\t\\n\"]\n"
     ]
    }
   ],
   "source": [
    "import json\n",
    "json_l=open( \"PATH_TO_JSONL_FILES/doc_c00c5a0c-feb9-5b98-a22f-9a92d0036831.jsonl\" ).read().split( \"\\n\" )\n",
    "solr_obj=json.loads( json_l[0] )\n",
    "print( \"celex id\"  , solr_obj[ 'celex' ] )\n",
    "print( \"content:\",  solr_obj[ 'content' ] )"
   ]
  },
  {
   "cell_type": "code",
   "execution_count": null,
   "id": "51c08f5c-e83b-4ba6-bce5-abe2c998b155",
   "metadata": {},
   "outputs": [],
   "source": []
  }
 ],
 "metadata": {
  "kernelspec": {
   "display_name": "Python 3",
   "language": "python",
   "name": "python3"
  },
  "language_info": {
   "codemirror_mode": {
    "name": "ipython",
    "version": 3
   },
   "file_extension": ".py",
   "mimetype": "text/x-python",
   "name": "python",
   "nbconvert_exporter": "python",
   "pygments_lexer": "ipython3",
   "version": "3.7.3"
  }
 },
 "nbformat": 4,
 "nbformat_minor": 5
}
