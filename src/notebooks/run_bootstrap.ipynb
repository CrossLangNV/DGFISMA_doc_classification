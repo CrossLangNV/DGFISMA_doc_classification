{
 "cells": [
  {
   "cell_type": "code",
   "execution_count": 1,
   "id": "advanced-constitutional",
   "metadata": {},
   "outputs": [],
   "source": [
    "DATA_PATH=\"/notebook/nas-trainings/arne/DGFISMA/DATA/doc_classifier/DATA_DUMP_13_08_ALL/EURLEX\"\n",
    "import glob\n",
    "import os\n",
    "import jsonlines\n",
    "eurlex_files=glob.glob( os.path.join( DATA_PATH, \"*.jsonl\" ))"
   ]
  },
  {
   "cell_type": "markdown",
   "id": "alleged-webmaster",
   "metadata": {},
   "source": [
    "#### Create traning set for document classification using business rules:"
   ]
  },
  {
   "cell_type": "code",
   "execution_count": 2,
   "id": "annual-forge",
   "metadata": {},
   "outputs": [],
   "source": [
    "import sys\n",
    "sys.path.append( \"/notebook/nas-trainings/arne/DGFISMA_doc_classification/src/businessrules\")\n",
    "from business_rules import bootstrap\n",
    "\n",
    "bootstrap( DATA_PATH  ,  \"/notebook/nas-trainings/arne/DGFISMA_doc_classification/DATA\" )"
   ]
  },
  {
   "cell_type": "markdown",
   "id": "local-keeping",
   "metadata": {},
   "source": [
    "#### Inspect train data:"
   ]
  },
  {
   "cell_type": "code",
   "execution_count": 3,
   "id": "alternate-finder",
   "metadata": {},
   "outputs": [],
   "source": [
    "import pandas as pd\n",
    "data=pd.read_csv( \"/notebook/nas-trainings/arne/DGFISMA_doc_classification/DATA/train_data.tsv\"   , sep='\\t' , header=None ) \n",
    "train_data=data[0].tolist()\n",
    "train_labels=data[2].tolist()\n"
   ]
  },
  {
   "cell_type": "code",
   "execution_count": 4,
   "id": "decent-curve",
   "metadata": {},
   "outputs": [],
   "source": [
    "from base64 import b64decode, b64encode\n",
    "import string\n",
    "train_data=[ b64decode( doc ).decode().translate(str.maketrans('', '', string.punctuation+'0123456789'  )) for doc in train_data  ]\n"
   ]
  },
  {
   "cell_type": "code",
   "execution_count": 6,
   "id": "prepared-quantity",
   "metadata": {},
   "outputs": [
    {
     "data": {
      "text/plain": [
       "Counter({1: 3863, 0: 8093})"
      ]
     },
     "execution_count": 6,
     "metadata": {},
     "output_type": "execute_result"
    }
   ],
   "source": [
    "from collections import Counter\n",
    "Counter(  train_labels  )"
   ]
  },
  {
   "cell_type": "code",
   "execution_count": null,
   "id": "partial-banana",
   "metadata": {},
   "outputs": [],
   "source": []
  }
 ],
 "metadata": {
  "kernelspec": {
   "display_name": "Python 3",
   "language": "python",
   "name": "python3"
  },
  "language_info": {
   "codemirror_mode": {
    "name": "ipython",
    "version": 3
   },
   "file_extension": ".py",
   "mimetype": "text/x-python",
   "name": "python",
   "nbconvert_exporter": "python",
   "pygments_lexer": "ipython3",
   "version": "3.7.10"
  }
 },
 "nbformat": 4,
 "nbformat_minor": 5
}
