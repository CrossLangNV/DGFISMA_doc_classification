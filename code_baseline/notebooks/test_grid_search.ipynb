{
 "cells": [
  {
   "cell_type": "code",
   "execution_count": 1,
   "metadata": {
    "scrolled": true
   },
   "outputs": [
    {
     "name": "stdout",
     "output_type": "stream",
     "text": [
      "/miniconda/lib/python3.7/site-packages/sklearn/externals/joblib/externals/cloudpickle/cloudpickle.py:47: DeprecationWarning: the imp module is deprecated in favour of importlib; see the module's documentation for alternative uses\n",
      "  import imp\n",
      "Removing punctuation and numbers\n",
      "400 documents - 4.392MB (training set)\n",
      "2 categories\n",
      "\n",
      "Using Tfidf Vectorizer.\n",
      "Extracting features via sklearn.feature_selection. SelectKbest using LinearSVC.\n",
      "/miniconda/lib/python3.7/site-packages/sklearn/externals/joblib/externals/cloudpickle/cloudpickle.py:47: DeprecationWarning: the imp module is deprecated in favour of importlib; see the module's documentation for alternative uses\n",
      "  import imp\n",
      "/miniconda/lib/python3.7/site-packages/sklearn/externals/joblib/externals/cloudpickle/cloudpickle.py:47: DeprecationWarning: the imp module is deprecated in favour of importlib; see the module's documentation for alternative uses\n",
      "  import imp\n",
      "/miniconda/lib/python3.7/site-packages/sklearn/externals/joblib/externals/cloudpickle/cloudpickle.py:47: DeprecationWarning: the imp module is deprecated in favour of importlib; see the module's documentation for alternative uses\n",
      "  import imp\n",
      "/miniconda/lib/python3.7/site-packages/sklearn/externals/joblib/externals/cloudpickle/cloudpickle.py:47: DeprecationWarning: the imp module is deprecated in favour of importlib; see the module's documentation for alternative uses\n",
      "  import imp\n",
      "/miniconda/lib/python3.7/site-packages/sklearn/externals/joblib/externals/cloudpickle/cloudpickle.py:47: DeprecationWarning: the imp module is deprecated in favour of importlib; see the module's documentation for alternative uses\n",
      "  import imp\n",
      "/miniconda/lib/python3.7/site-packages/sklearn/externals/joblib/externals/cloudpickle/cloudpickle.py:47: DeprecationWarning: the imp module is deprecated in favour of importlib; see the module's documentation for alternative uses\n",
      "  import imp\n",
      "/miniconda/lib/python3.7/site-packages/sklearn/externals/joblib/externals/cloudpickle/cloudpickle.py:47: DeprecationWarning: the imp module is deprecated in favour of importlib; see the module's documentation for alternative uses\n",
      "  import imp\n",
      "/miniconda/lib/python3.7/site-packages/sklearn/externals/joblib/externals/cloudpickle/cloudpickle.py:47: DeprecationWarning: the imp module is deprecated in favour of importlib; see the module's documentation for alternative uses\n",
      "  import imp\n",
      "/miniconda/lib/python3.7/site-packages/sklearn/externals/joblib/externals/cloudpickle/cloudpickle.py:47: DeprecationWarning: the imp module is deprecated in favour of importlib; see the module's documentation for alternative uses\n",
      "  import imp\n",
      "/miniconda/lib/python3.7/site-packages/sklearn/externals/joblib/externals/cloudpickle/cloudpickle.py:47: DeprecationWarning: the imp module is deprecated in favour of importlib; see the module's documentation for alternative uses\n",
      "  import imp\n",
      "/miniconda/lib/python3.7/site-packages/sklearn/externals/joblib/externals/cloudpickle/cloudpickle.py:47: DeprecationWarning: the imp module is deprecated in favour of importlib; see the module's documentation for alternative uses\n",
      "  import imp\n",
      "/miniconda/lib/python3.7/site-packages/sklearn/externals/joblib/externals/cloudpickle/cloudpickle.py:47: DeprecationWarning: the imp module is deprecated in favour of importlib; see the module's documentation for alternative uses\n",
      "  import imp\n",
      "/miniconda/lib/python3.7/site-packages/sklearn/externals/joblib/externals/cloudpickle/cloudpickle.py:47: DeprecationWarning: the imp module is deprecated in favour of importlib; see the module's documentation for alternative uses\n",
      "  import imp\n",
      "Selected features are: \n",
      "\n",
      "adopt\n",
      "agricultural\n",
      "aid\n",
      "arrangements\n",
      "central\n",
      "committee\n",
      "community\n",
      "competent\n",
      "credit\n",
      "delegated\n",
      "eec\n",
      "entities\n",
      "financial\n",
      "funds\n",
      "insurance\n",
      "investment\n",
      "legal\n",
      "markets\n",
      "person\n",
      "public\n",
      "regulatory\n",
      "relevant\n",
      "reporting\n",
      "resolution\n",
      "securities\n",
      "standards\n",
      "supervisory\n",
      "trading\n",
      "zimbabwe\n",
      "29 selected features\n"
     ]
    }
   ],
   "source": [
    "!python ../src/train.py \\\n",
    "--filename /notebook/nas-trainings/arne/DGFISMA/DATA/doc_classifier/processed_eurlex_15_06/train_data.tsv \\\n",
    "--output_dir  /notebook/nas-trainings/arne/DGFISMA_doc_classification/code_baseline/models_dgfisma_grid  \\\n",
    "--penalty l2 \\\n",
    "--penalty_feature_selection l1 \\\n",
    "--vectorizer_type tfidf \\\n",
    "--feature_selection_svc \\\n",
    "--remove_punctuation_numbers"
   ]
  },
  {
   "cell_type": "code",
   "execution_count": 3,
   "metadata": {},
   "outputs": [
    {
     "name": "stdout",
     "output_type": "stream",
     "text": [
      "/miniconda/lib/python3.7/site-packages/sklearn/externals/joblib/externals/cloudpickle/cloudpickle.py:47: DeprecationWarning: the imp module is deprecated in favour of importlib; see the module's documentation for alternative uses\n",
      "  import imp\n",
      "93 documents - 1.612MB (test set)\n",
      "2 categories\n",
      "\n",
      "              precision    recall  f1-score   support\n",
      "\n",
      "           0       0.98      1.00      0.99        45\n",
      "           1       1.00      0.98      0.99        48\n",
      "\n",
      "   micro avg       0.99      0.99      0.99        93\n",
      "   macro avg       0.99      0.99      0.99        93\n",
      "weighted avg       0.99      0.99      0.99        93\n",
      "\n"
     ]
    }
   ],
   "source": [
    "!python ../src/test.py \\\n",
    "--filename /notebook/nas-trainings/arne/DGFISMA/DATA/doc_classifier/processed_eurlex_15_06/test_data.tsv   \\\n",
    "--model_path  /notebook/nas-trainings/arne/DGFISMA_doc_classification/code_baseline/models_dgfisma_grid/model.p \\\n",
    "--output_file /notebook/nas-trainings/arne/DGFISMA_doc_classification/code_baseline/notebooks/results/results_tf_idf_binary_eurlex\n"
   ]
  },
  {
   "cell_type": "code",
   "execution_count": 4,
   "metadata": {},
   "outputs": [
    {
     "name": "stdout",
     "output_type": "stream",
     "text": [
      "/miniconda/lib/python3.7/site-packages/sklearn/externals/joblib/externals/cloudpickle/cloudpickle.py:47: DeprecationWarning: the imp module is deprecated in favour of importlib; see the module's documentation for alternative uses\n",
      "  import imp\n",
      "117 documents - 12.418MB (test set)\n",
      "2 categories\n",
      "\n",
      "              precision    recall  f1-score   support\n",
      "\n",
      "           0       0.98      0.75      0.85        73\n",
      "           1       0.70      0.98      0.82        44\n",
      "\n",
      "   micro avg       0.84      0.84      0.84       117\n",
      "   macro avg       0.84      0.87      0.84       117\n",
      "weighted avg       0.88      0.84      0.84       117\n",
      "\n"
     ]
    }
   ],
   "source": [
    "!python ../src/test.py \\\n",
    "--filename /notebook/nas-trainings/arne/DGFISMA/DATA/doc_classifier/processed_eurlex_15_06/test_data_milieu_iteration1.tsv    \\\n",
    "--model_path /notebook/nas-trainings/arne/DGFISMA_doc_classification/code_baseline/models_dgfisma_grid/model.p  \\\n",
    "--output_file /notebook/nas-trainings/arne/DGFISMA_doc_classification/code_baseline/notebooks/results/results_tf_idf_binary_eurlex_milieu"
   ]
  },
  {
   "cell_type": "code",
   "execution_count": 14,
   "metadata": {},
   "outputs": [
    {
     "name": "stdout",
     "output_type": "stream",
     "text": [
      "/miniconda/lib/python3.7/site-packages/sklearn/externals/joblib/externals/cloudpickle/cloudpickle.py:47: DeprecationWarning: the imp module is deprecated in favour of importlib; see the module's documentation for alternative uses\n",
      "  import imp\n",
      "117 documents - 12.418MB (test set)\n",
      "2 categories\n",
      "\n",
      "              precision    recall  f1-score   support\n",
      "\n",
      "           0       0.92      0.66      0.77        73\n",
      "           1       0.62      0.91      0.73        44\n",
      "\n",
      "   micro avg       0.75      0.75      0.75       117\n",
      "   macro avg       0.77      0.78      0.75       117\n",
      "weighted avg       0.81      0.75      0.76       117\n",
      "\n"
     ]
    }
   ],
   "source": [
    "!python ../src/test.py \\\n",
    "--filename /notebook/nas-trainings/arne/DGFISMA/DATA/doc_classifier/processed_eurlex_15_06/test_data_milieu_iteration1.tsv    \\\n",
    "--model_path /notebook/nas-trainings/arne/DGFISMA/Doc_class-docker/code_baseline/models_dgfisma_grid/model.p \\\n",
    "--output_file /notebook/nas-trainings/arne/DGFISMA/Doc_class-docker/code_baseline/notebooks/results/results_tf_idf_binary_eurlex_milieu"
   ]
  },
  {
   "cell_type": "code",
   "execution_count": null,
   "metadata": {},
   "outputs": [],
   "source": []
  },
  {
   "cell_type": "code",
   "execution_count": null,
   "metadata": {},
   "outputs": [],
   "source": []
  }
 ],
 "metadata": {
  "kernelspec": {
   "display_name": "Python 3",
   "language": "python",
   "name": "python3"
  },
  "language_info": {
   "codemirror_mode": {
    "name": "ipython",
    "version": 3
   },
   "file_extension": ".py",
   "mimetype": "text/x-python",
   "name": "python",
   "nbconvert_exporter": "python",
   "pygments_lexer": "ipython3",
   "version": "3.7.3"
  }
 },
 "nbformat": 4,
 "nbformat_minor": 4
}
