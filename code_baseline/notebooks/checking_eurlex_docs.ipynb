{
 "cells": [
  {
   "cell_type": "code",
   "execution_count": 1,
   "metadata": {},
   "outputs": [
    {
     "data": {
      "text/html": [
       "<style>.container { width:99% !important; }</style>"
      ],
      "text/plain": [
       "<IPython.core.display.HTML object>"
      ]
     },
     "metadata": {},
     "output_type": "display_data"
    }
   ],
   "source": [
    "import sys\n",
    "import pandas as pd\n",
    "import os\n",
    "import re\n",
    "import glob\n",
    "import shutil\n",
    "import numpy as np\n",
    "from pathlib import Path\n",
    "import shutil\n",
    "\n",
    "from IPython.core.display import display, HTML\n",
    "# make the Jupyter notebook use the full screen width\n",
    "display(HTML(\"<style>.container { width:99% !important; }</style>\"))\n",
    "\n",
    "import sys\n",
    "sys.path.append(  \"/notebook/nas-trainings/arne/DGFISMA/definition_extraction/notebooks/\" )\n",
    "\n",
    "section_regexp= r'^(Part|Title|Chapter|Section|Sub-Section|Article|ANNEX)\\ *([0-9.]|ONE|TWO|THREE|FOUR|FIVE|SIX|SEVEN|EIGHT|NINE|TEN|ELEVEN|TWELVE|THIRTEEN|FOURTEEN|FIFTEEN|SIXTEEN|SEVENTEEN|EIGHTEEN|NINETEEN|TWENTY|I|II|III|IV|V|VI|VII|VIII|IX|X|X(I|II|III|IV|V|VI|VII|VIII|IX|X))* *$'"
   ]
  },
  {
   "cell_type": "code",
   "execution_count": 2,
   "metadata": {},
   "outputs": [],
   "source": [
    "import glob\n",
    "import json\n",
    "import base64\n",
    "\n",
    "DATA_DIR= \"/notebook/nas-trainings/arne/DGFISMA/DATA/doc_classifier/DATA_DUMP_30_04\"\n",
    "files=glob.glob( os.path.join( DATA_DIR, \"EURLEX\" , \"*jsonl\" )  )\n",
    "\n",
    "all_jsons=[]\n",
    "\n",
    "xhtmls=[]\n",
    "htmls=[]\n",
    "pdfs=[]\n",
    "\n",
    "for file in files:\n",
    "    jsonl=open( file ).read().rstrip(\"\\n\").split( \"\\n\" )\n",
    "    json_file = [json.loads( json_line ) for json_line in jsonl]\n",
    "    if len( json_file ) >1:\n",
    "        if json_file[1][ \"content_type\" ]==\"xhtml\":\n",
    "            xhtmls.append( json_file  )\n",
    "        \n",
    "        if json_file[1][ \"content_type\" ]==\"html\":\n",
    "            htmls.append( json_file )\n",
    "        \n",
    "        if json_file[1][ \"content_type\" ]==\"pdf\":\n",
    "            pdfs.append( json_file )"
   ]
  },
  {
   "cell_type": "markdown",
   "metadata": {},
   "source": [
    "### Processing of PDF's:"
   ]
  },
  {
   "cell_type": "code",
   "execution_count": 24,
   "metadata": {},
   "outputs": [
    {
     "name": "stdout",
     "output_type": "stream",
     "text": [
      "15. 7. 82 Official Journal of the European Communities No L 207/9 COMMISSION REGULATION (EEC) No 1886/82 of 14 July 1982 fixing the import levies on cereals and on wheat or rye flour, groats and meal a band of 2-25 %, a rate of exchange based on their central rate, — for other currencies, an exchange rate based on the arithmetic mean of the spot market rates of each of­ these currencies in relation to the Community currencies referred to in the previous indent ; Whereas these exchange rates being those recorded on 13 July 1982 ; Whereas it follows from applying the detailed rules contained in Regulation (EEC) No 2196/81 to today's offer prices and quotations known to the Commission that the levies at present in force should be altered to the amounts set out in the Annex hereto, THE COMMISSION OF THE EUROPEAN COMMUNITIES, Having regard to the Treaty establishing the European Economic Community, Having regard to Council Regulation (EEC) No 2727/75 of 29 October 1975 on the common organi­ zation of the market in cereals ('), as last amended by Regulation (EEC) No 1451 /82 (2), and in particular Article 13 (5) thereof, Having regard to Council Regulation No 129 on the value of the unit of account and the exchange rates to be applied for the purposes of the common agricul­ tural policy (3), as last amended by Regulation (EEC) No 2543/73 (4), and in particular Article 3 thereof, Having regard to the opinion of the Monetary Committee, Whereas, the import levies on cereals, wheat and rye flour, and wheat groats and meal were fixed by Regula­ tion (EEC) No 2196/81 (*) and subsequent amending Regulations ; Whereas, if the levy system is to operate normally, levies should be calculated on the following basis : — in the case of currencies which are maintained in relation to each other at any given moment within HAS ADOPTED THIS REGULATION : Article 1 The import levies to be charged on products listed in Article 1 (a), (b) and (c) of Regulation (EEC) No 2727/75 shall be as set out in the Annex hereto. Article 2 This Regulation shall enter into force on 15 July 1982. This Regulation shall be binding in its entirety and directly applicable in all Member States . Done at Brussels, 14 July 1982. For the Commission Poul DALSAGER Member of the Commission (■) OJ No L 281 , 1 . 11 . 1975, p . 1 . 0 OJ No L 164, 14. 6 . 1982, p. 1 . (3) OJ No 106, 30 . 10 . 1962, p . 2553/62. (4) OJ No L 263, 19 . 9 . 1973, p. 1 . 0 OJ No L 214, 1 . 8 . 1981 , p . 7 . No L 207/ 10 Official Journal of the European Communities 15. 7. 82\n"
     ]
    }
   ],
   "source": [
    "json_file=pdfs[2]\n",
    "decoded_content=base64.b64decode( json_file[1]['content']  ).decode( 'utf-8' )\n",
    "\n",
    "from cleaning import clean_pdf, delete_annexes\n",
    "articles=clean_pdf( decoded_content )\n",
    "articles=delete_annexes(articles)\n",
    "\n",
    "articles_text=\"\\n\".join( articles )\n",
    "print(articles_text.replace(  \"\\n\", \" \" ))\n",
    "\n",
    "#also strip punctuation..."
   ]
  },
  {
   "cell_type": "code",
   "execution_count": 6,
   "metadata": {},
   "outputs": [
    {
     "data": {
      "text/plain": [
       "'Article 2\\nThis Regulation shall enter into force on 15 July 1982.\\nThis Regulation shall be binding in its entirety and directly applicable in all Member\\nStates .\\nDone at Brussels, 14 July 1982.\\nFor the Commission\\nPoul DALSAGER\\nMember of the Commission\\n(■) OJ No L 281 , 1 . 11 . 1975, p . 1 .\\n0 OJ No L 164, 14. 6 . 1982, p. 1 .\\n(3) OJ No 106, 30 . 10 . 1962, p . 2553/62.\\n(4) OJ No L 263, 19 . 9 . 1973, p. 1 .\\n0 OJ No L 214, 1 . 8 . 1981 , p . 7 .\\nNo L 207/ 10 Official Journal of the European Communities 15. 7. 82'"
      ]
     },
     "execution_count": 6,
     "metadata": {},
     "output_type": "execute_result"
    }
   ],
   "source": [
    "articles[2]"
   ]
  },
  {
   "cell_type": "code",
   "execution_count": 7,
   "metadata": {},
   "outputs": [
    {
     "name": "stdout",
     "output_type": "stream",
     "text": [
      "\n",
      "\n",
      "\n",
      "\n",
      "\n",
      "\n",
      "\n",
      "\n",
      "\n",
      "\n",
      "\n",
      "\n",
      "\n",
      "\n",
      "\n",
      "\n",
      "\n",
      "\n",
      "\n",
      "\n",
      "\n",
      "\n",
      "\n",
      "\n",
      "\n",
      "\n",
      "\n",
      "\n",
      "\n",
      "\n",
      "\n",
      "\n",
      "\n",
      "\n",
      "\n",
      "\n",
      "\n",
      "\n",
      "\n",
      "\n",
      "\n",
      "\n",
      "15. 7. 82 Official Journal of the European Communities No L 207/9\n",
      "\n",
      "COMMISSION REGULATION (EEC) No 1886/82\n",
      "of 14 July 1982\n",
      "\n",
      "fixing the import levies on cereals and on wheat or rye flour, groats and meal\n",
      "\n",
      "a band of 2-25 %, a rate of exchange based on\n",
      "their central rate,\n",
      "\n",
      "— for other currencies, an exchange rate based on the\n",
      "arithmetic mean of the spot market rates of each of­\n",
      "these currencies in relation to the Community\n",
      "currencies referred to in the previous indent ;\n",
      "\n",
      "Whereas these exchange rates being those recorded on\n",
      "13 July 1982 ;\n",
      "\n",
      "Whereas it follows from applying the detailed rules\n",
      "contained in Regulation (EEC) No 2196/81 to today's\n",
      "offer prices and quotations known to the Commission\n",
      "that the levies at present in force should be altered to\n",
      "the amounts set out in the Annex hereto,\n",
      "\n",
      "THE COMMISSION OF THE EUROPEAN\n",
      "COMMUNITIES,\n",
      "\n",
      "Having regard to the Treaty establishing the European\n",
      "Economic Community,\n",
      "\n",
      "Having regard to Council Regulation (EEC) No\n",
      "2727/75 of 29 October 1975 on the common organi­\n",
      "zation of the market in cereals ('), as last amended by\n",
      "Regulation (EEC) No 1451 /82 (2), and in particular\n",
      "Article 13 (5) thereof,\n",
      "\n",
      "Having regard to Council Regulation No 129 on the\n",
      "value of the unit of account and the exchange rates to\n",
      "be applied for the purposes of the common agricul­\n",
      "tural policy (3), as last amended by Regulation (EEC)\n",
      "No 2543/73 (4), and in particular Article 3 thereof,\n",
      "\n",
      "Having regard to the opinion of the Monetary\n",
      "Committee,\n",
      "\n",
      "Whereas, the import levies on cereals, wheat and rye\n",
      "flour, and wheat groats and meal were fixed by Regula­\n",
      "tion (EEC) No 2196/81 (*) and subsequent amending\n",
      "Regulations ;\n",
      "\n",
      "Whereas, if the levy system is to operate normally,\n",
      "levies should be calculated on the following basis :\n",
      "— in the case of currencies which are maintained in\n",
      "\n",
      "relation to each other at any given moment within\n",
      "\n",
      "HAS ADOPTED THIS REGULATION :\n",
      "\n",
      "Article 1\n",
      "\n",
      "The import levies to be charged on products listed in\n",
      "Article 1 (a), (b) and (c) of Regulation (EEC) No\n",
      "2727/75 shall be as set out in the Annex hereto.\n",
      "\n",
      "Article 2\n",
      "\n",
      "This Regulation shall enter into force on 15 July 1982.\n",
      "\n",
      "This Regulation shall be binding in its entirety and directly applicable in all Member\n",
      "States .\n",
      "\n",
      "Done at Brussels, 14 July 1982.\n",
      "For the Commission\n",
      "\n",
      "Poul DALSAGER\n",
      "\n",
      "Member of the Commission\n",
      "\n",
      "(■) OJ No L 281 , 1 . 11 . 1975, p . 1 .\n",
      "0 OJ No L 164, 14. 6 . 1982, p. 1 .\n",
      "(3) OJ No 106, 30 . 10 . 1962, p . 2553/62.\n",
      "(4) OJ No L 263, 19 . 9 . 1973, p. 1 .\n",
      "0 OJ No L 214, 1 . 8 . 1981 , p . 7 .\n",
      "\n",
      "\n",
      "\n",
      "No L 207/ 10 Official Journal of the European Communities 15. 7. 82\n",
      "\n",
      "ANNEX\n",
      "\n",
      "to the Commission Regulation of 14 July 1982 fixing the import levies on cereals and on\n",
      "wheat or rye flour, groats and meal\n",
      "\n",
      "(ECU/tonne)\n",
      "CCT\n",
      "heading\n",
      "No\n",
      "\n",
      "Description Levies\n",
      "\n",
      "10.01 Bí Common wheat, and mesiin 11001\n",
      "10.01 B II Durum wheat 152-73 (')Ο\n",
      "10.02 Rye 64-15 0\n",
      "10.03 Barley 98-86\n",
      "10.04 Oats 62-70\n",
      "10.05 B Maize, other than hybrid maize for\n",
      "\n",
      "sowing 96-62 0 0\n",
      "10.07 A Buckwheat 0\n",
      "10.07 B Millet 77-22 0\n",
      "10.07 C Grain sorghum 98-22 0\n",
      "10.07 D Canary seed ; other cereals o o\n",
      "11.01 A Wheat or mesiin flour 169-43\n",
      "11.01 B Rye flour 105-25\n",
      "1 1.02 A I a) Durum wheat groats and meal 250-43\n",
      "1 1 .02 A I b) Common wheat groats and meal 180-28\n",
      "\n",
      "(') Where durum wheat originating in Morocco is transported directly\n",
      "from that country to the Community, the levy is reduced by 0-60\n",
      "ECU/tonne.\n",
      "\n",
      "(2) In accordance with Regulation (EEC) No 435/80, the levies are not\n",
      "aplied to imports into the French overseas departments of products\n",
      "originating in the African, Caribbean and Pacific States or in the\n",
      "'overseas countries and territories'.\n",
      "\n",
      "(3) Where maize originating in the ACP or OCT is imported into the\n",
      "Community the levy is reduced by 1-81 ECU/tonne.\n",
      "\n",
      "(4) Where millet and sorghum originating in the ACP or OCT is\n",
      "imported into the Community the levy is reduced by 50 % .\n",
      "\n",
      "O Where durum wheat and canary seed produced in Turkey are trans­\n",
      "ported directly from that country to the Community, the levy is\n",
      "reduced by 0-60 ECU/tonne.\n",
      "\n",
      "0 The import levy charged on rye produced in Turkey and transported\n",
      "directly from that country to the Community is laid down in Council\n",
      "Regulation (EEC) No 1180/77 and Commission Regulation (EEC) No\n",
      "2622/71 .\n",
      "\n",
      "\n",
      "\n"
     ]
    }
   ],
   "source": [
    "print(decoded_content)"
   ]
  },
  {
   "cell_type": "code",
   "execution_count": 25,
   "metadata": {},
   "outputs": [
    {
     "data": {
      "text/plain": [
       "[{'celex': ['31982R1886'],\n",
       "  'title': ['Commission Regulation (EEC) No 1886/82 of 14 July 1982 fixing the import levies on cereals and on wheat or rye flour, groats and meal'],\n",
       "  'ELI': ['http://data.europa.eu/eli/reg/1982/1886/oj'],\n",
       "  'various': ['OJ L 207, 15.7.1982, p. 9–10 (DA, DE, EL, EN, FR, IT, NL), ELI: http://data.europa.eu/eli/reg/1982/1886/oj'],\n",
       "  'pdf_docs': ['https://eur-lex.europa.eu/legal-content/EN/TXT/PDF/?uri=CELEX:31982R1886&from=EN'],\n",
       "  'date': ['1982-07-15T00:00:00Z'],\n",
       "  'dates': ['1982-07-15T00:00:00Z'],\n",
       "  'dates_type': ['date of document'],\n",
       "  'dates_info': ['n/a'],\n",
       "  'misc_author': ['European Commission'],\n",
       "  'type': ['Regulation'],\n",
       "  'misc_form': ['Regulation'],\n",
       "  'relationships_treaty': ['Select all documents based on this document'],\n",
       "  'relationships_oj_link': ['https://eur-lex.europa.eu/legal-content/AUTO/?uri=OJ:L:1982:207:TOC'],\n",
       "  'url': ['https://eur-lex.europa.eu/legal-content/EN/ALL/?uri=CELEX:31982R1886'],\n",
       "  'task': [11],\n",
       "  'website': ['<span class=\"highlight\">eurlex</span>'],\n",
       "  'id': '412c4548-2b5b-5195-9659-f51e9c1dd2a3',\n",
       "  '_version_': 1664448081103421440},\n",
       " {'content': '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',\n",
       "  'content_type': 'pdf'}]"
      ]
     },
     "execution_count": 25,
     "metadata": {},
     "output_type": "execute_result"
    }
   ],
   "source": [
    "json_file"
   ]
  },
  {
   "cell_type": "code",
   "execution_count": 30,
   "metadata": {},
   "outputs": [
    {
     "data": {
      "text/plain": [
       "'some     '"
      ]
     },
     "execution_count": 30,
     "metadata": {},
     "output_type": "execute_result"
    }
   ],
   "source": [
    "import string\n",
    "articles_text=\"some 1 2 / \\n\".replace( \"\\n\", \" \"  ).translate(str.maketrans('', '', string.punctuation+'0123456789'  ))\n",
    "articles_text"
   ]
  },
  {
   "cell_type": "code",
   "execution_count": null,
   "metadata": {},
   "outputs": [],
   "source": []
  },
  {
   "cell_type": "code",
   "execution_count": 15,
   "metadata": {},
   "outputs": [
    {
     "data": {
      "text/plain": [
       "[{'celex': ['31982R1886'],\n",
       "  'title': ['Commission Regulation (EEC) No 1886/82 of 14 July 1982 fixing the import levies on cereals and on wheat or rye flour, groats and meal'],\n",
       "  'ELI': ['http://data.europa.eu/eli/reg/1982/1886/oj'],\n",
       "  'various': ['OJ L 207, 15.7.1982, p. 9–10 (DA, DE, EL, EN, FR, IT, NL), ELI: http://data.europa.eu/eli/reg/1982/1886/oj'],\n",
       "  'pdf_docs': ['https://eur-lex.europa.eu/legal-content/EN/TXT/PDF/?uri=CELEX:31982R1886&from=EN'],\n",
       "  'date': ['1982-07-15T00:00:00Z'],\n",
       "  'dates': ['1982-07-15T00:00:00Z'],\n",
       "  'dates_type': ['date of document'],\n",
       "  'dates_info': ['n/a'],\n",
       "  'misc_author': ['European Commission'],\n",
       "  'type': ['Regulation'],\n",
       "  'misc_form': ['Regulation'],\n",
       "  'relationships_treaty': ['Select all documents based on this document'],\n",
       "  'relationships_oj_link': ['https://eur-lex.europa.eu/legal-content/AUTO/?uri=OJ:L:1982:207:TOC'],\n",
       "  'url': ['https://eur-lex.europa.eu/legal-content/EN/ALL/?uri=CELEX:31982R1886'],\n",
       "  'task': [11],\n",
       "  'website': ['<span class=\"highlight\">eurlex</span>'],\n",
       "  'id': '412c4548-2b5b-5195-9659-f51e9c1dd2a3',\n",
       "  '_version_': 1664448081103421440},\n",
       " {'content': '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',\n",
       "  'content_type': 'pdf'}]"
      ]
     },
     "execution_count": 15,
     "metadata": {},
     "output_type": "execute_result"
    }
   ],
   "source": [
    "json_file"
   ]
  },
  {
   "cell_type": "code",
   "execution_count": null,
   "metadata": {},
   "outputs": [],
   "source": []
  },
  {
   "cell_type": "code",
   "execution_count": null,
   "metadata": {},
   "outputs": [],
   "source": []
  },
  {
   "cell_type": "markdown",
   "metadata": {},
   "source": [
    "### Processing of xhtml's"
   ]
  },
  {
   "cell_type": "code",
   "execution_count": 34,
   "metadata": {
    "scrolled": false
   },
   "outputs": [
    {
     "name": "stdout",
     "output_type": "stream",
     "text": [
      "8.8.2013 EN Official Journal of the European Union L 213/20 COMMISSION IMPLEMENTING DIRECTIVE 2013/45/EU of 7 August 2013 amending Council Directives 2002/55/EC and 2008/72/EC and Commission Directive 2009/145/EC as regards the botanical name of tomato (Text with EEA relevance) THE EUROPEAN COMMISSION, Having regard to the Treaty on the Functioning of the European Union, Having regard to Council Directive 2002/55/EC of 13 June 2002 on the marketing of vegetable seed (1), and in particular Articles 2(2), 44(2), Article 45 and Article 48(1)(b) thereof, Having regard to Council Directive 2008/72/EC of 15 July 2008 on the marketing of vegetable propagating and planting material, other than seed (2), and in particular Article 1(3) thereof, Whereas: (1) In the light of the development of scientific knowledge, the International Code of Botanical Nomenclature (ICBN) has been revised, in particular with respect to the botanical name of the species tomato. (2) In order to reflect that development, Directives 2002/55/EC, 2008/72/EC and Commission Directive 2009/145/EC of 26 November 2009 providing for certain derogations, for acceptance of vegetable landraces and varieties which have been traditionally grown in particular localities and regions and are threatened by genetic erosion and of vegetable varieties with no intrinsic value for commercial crop production but developed for growing under particular conditions and for marketing of seed of those landraces and varieties (3) should therefore be amended accordingly. (3) The measures provided for in this Directive are in accordance with the opinion of the Standing Committee on Seeds and Propagating Material for Agriculture, Horticulture and Forestry, HAS ADOPTED THIS DIRECTIVE: Article 1 Amendments to Directive 2002/55/EC Directive 2002/55/EC is amended as follows: (1) in Article 2(1)(b) the words ‘Lycopersicon esculentum Mill.’ are replaced by the words ‘Solanum lycopersicum L.’; (2) in the table in point 3(a) of Annex II, the words ‘Lycopersicon esculentum’ are replaced by the words ‘Solanum lycopersicum L.’; (3) in the table in point 2 of Annex III, the words ‘Lycopersicon esculentum’ are replaced by the words ‘Solanum lycopersicum L.’. Article 2 Amendments to Directive 2008/72/EC In the table in Annex II to Directive 2008/72/EC, the words ‘Lycopersicon esculentum Mill.’ are replaced by the words ‘Solanum lycopersicum L.’. Article 3 Amendments to Directive 2009/145/EC Directive 2009/145/EC is amended as follows: (1) in the table in Annex I, the words ‘Lycopersicon esculentum Mill.’ are replaced by ‘Solanum lycopersicum L.’; (2) in the table in Annex II, the words ‘Lycopersicon esculentum Mill.’ are replaced by ‘Solanum lycopersicum L.’. Article 4 Transposition 1.   Member States shall bring into force the laws, regulations and administrative provisions necessary to comply with this Directive by 31 March 2014 at the latest. They shall forthwith communicate to the Commission the text of those provisions. When Member States adopt those provisions, they shall contain a reference to this Directive or be accompanied by such a reference on the occasion of their official publication. Member States shall determine how such reference is to be made. 2.   Member States shall communicate to the Commission the text of the main provisions of national law which they adopt in the field covered by this Directive. Article 5 Entry into force This Directive shall enter into force on the twentieth day following that of its publication in the Official Journal of the European Union. Article 6 Addressees This Directive is addressed to the Member States. Done at Brussels, 7 August 2013. For the Commission The President José Manuel BARROSO (1)  OJ L 193, 20.7.2002, p. 33. (2)  OJ L 205, 1.8.2008, p. 28. (3)  OJ L 312, 27.11.2009, p. 44.\n"
     ]
    }
   ],
   "source": [
    "# Processing of xhtml's\n",
    "json_file=xhtmls[2]\n",
    "decoded_content=base64.b64decode( json_file[1]['content']  ).decode( 'utf-8' )\n",
    "\n",
    "from cleaning import clean_html, delete_annexes\n",
    "articles=clean_html( decoded_content )\n",
    "articles=delete_annexes(articles)\n",
    "\n",
    "articles_text=\"\\n\".join( articles )\n",
    "print(articles_text.replace(  \"\\n\", \" \" ))\n"
   ]
  },
  {
   "cell_type": "code",
   "execution_count": 35,
   "metadata": {},
   "outputs": [
    {
     "data": {
      "text/plain": [
       "[{'celex': ['32013L0045'],\n",
       "  'title': ['Commission Implementing Directive 2013/45/EU of 7\\xa0August 2013 amending Council Directives 2002/55/EC and 2008/72/EC and Commission Directive 2009/145/EC as regards the botanical name of tomato Text with EEA relevance'],\n",
       "  'status': ['In force'],\n",
       "  'ELI': ['http://data.europa.eu/eli/dir_impl/2013/45/oj'],\n",
       "  'various': ['OJ L 213, 8.8.2013, p. 20–21 (BG, ES, CS, DA, DE, ET, EL, EN, FR, HR, IT, LV, LT, HU, MT, NL, PL, PT, RO, SK, SL, FI, SV), ELI: http://data.europa.eu/eli/dir_impl/2013/45/oj'],\n",
       "  'pdf_docs': ['https://eur-lex.europa.eu/legal-content/EN/TXT/PDF/?uri=CELEX:32013L0045&from=EN'],\n",
       "  'date': ['2013-08-07T00:00:00Z'],\n",
       "  'dates': ['2013-08-07T00:00:00Z',\n",
       "   '2013-08-28T00:00:00Z',\n",
       "   '2014-03-31T00:00:00Z',\n",
       "   '9999-01-01T00:00:00Z'],\n",
       "  'dates_type': ['date of document',\n",
       "   'date of effect',\n",
       "   'date of transposition',\n",
       "   'date of end of validity'],\n",
       "  'dates_info': ['n/a',\n",
       "   'Entry into force  Date pub. +20 See Art 5',\n",
       "   'At the latest See Art 4',\n",
       "   'n/a'],\n",
       "  'classifications_label': ['fruit vegetable',\n",
       "   'plant taxonomy',\n",
       "   'product designation',\n",
       "   'Fruit and vegetables',\n",
       "   'Agriculture',\n",
       "   'Products subject to market organisation',\n",
       "   'Fresh fruit and vegetables'],\n",
       "  'classifications_type': ['eurovoc descriptor',\n",
       "   'eurovoc descriptor',\n",
       "   'eurovoc descriptor',\n",
       "   'subject matter',\n",
       "   'directory code',\n",
       "   'directory code',\n",
       "   'directory code'],\n",
       "  'classifications_code': ['1605',\n",
       "   '442791',\n",
       "   '5573',\n",
       "   'F-L',\n",
       "   '03',\n",
       "   '0360',\n",
       "   '036054'],\n",
       "  'misc_author': ['European Commission'],\n",
       "  'type': ['Implementing directive'],\n",
       "  'misc_form': ['Implementing directive'],\n",
       "  'misc_addressee': ['The twenty-seven Member States: Belgium, Bulgaria, Czech Republic, Denmark, Germany, Estonia, Ireland, Greece, Spain, France, Italy, Cyprus, Latvia, Lithuania, Luxembourg, Hungary, Malta, Netherlands, Austria, Poland, Portugal, Romania, Slovenia, Slovakia, Finland, Sweden, United Kingdom'],\n",
       "  'relationships_treaty': ['Treaty on the Functioning of the European Union '],\n",
       "  'relationships_oj_link': ['https://eur-lex.europa.eu/legal-content/AUTO/?uri=OJ:L:2013:213:TOC'],\n",
       "  'relationships_legal_basis': ['32002L0055',\n",
       "   '32002L0055',\n",
       "   '32002L0055',\n",
       "   '32002L0055',\n",
       "   '32008L0072'],\n",
       "  'amendments_relation': ['Amendment ',\n",
       "   'Amendment ',\n",
       "   'Amendment ',\n",
       "   'Amendment ',\n",
       "   'Amendment ',\n",
       "   'Amendment '],\n",
       "  'amendments_act': ['32002L0055',\n",
       "   '32002L0055',\n",
       "   '32002L0055',\n",
       "   '32008L0072',\n",
       "   '32009L0145',\n",
       "   '32009L0145'],\n",
       "  'amendments_comment': ['  Amendment',\n",
       "   '  Amendment',\n",
       "   '  Amendment',\n",
       "   '  Amendment',\n",
       "   '  Amendment',\n",
       "   '  Amendment'],\n",
       "  'amendments_subdivision': [' annex II.3 point A)',\n",
       "   ' annex III.2',\n",
       "   ' article 2.1 point B)',\n",
       "   ' annex II',\n",
       "   ' annex I',\n",
       "   ' annex II'],\n",
       "  'amendments_from': ['2013-08-28T00:00:00Z',\n",
       "   '2013-08-28T00:00:00Z',\n",
       "   '2013-08-28T00:00:00Z',\n",
       "   '2013-08-28T00:00:00Z',\n",
       "   '2013-08-28T00:00:00Z',\n",
       "   '2013-08-28T00:00:00Z'],\n",
       "  'amendments_to': ['n/a', 'n/a', 'n/a', 'n/a', 'n/a', 'n/a'],\n",
       "  'url': ['https://eur-lex.europa.eu/legal-content/EN/ALL/?uri=CELEX:32013L0045'],\n",
       "  'task': [10],\n",
       "  'website': ['<span class=\"highlight\">eurlex</span>'],\n",
       "  'id': '5a9d8209-a866-56fd-b5fd-31fdf261a8c8',\n",
       "  'misc_additional_information': ['EEA relevance'],\n",
       "  '_version_': 1664232583330791424},\n",
       " {'content': 'PD94bWwgdmVyc2lvbj0iMS4wIiBlbmNvZGluZz0iVVRGLTgiPz4NCjwhRE9DVFlQRSBodG1sIFBVQkxJQyAiLS8vVzNDLy9EVEQgWEhUTUwvL0VOIiAieGh0bWwtc3RyaWN0LmR0ZCI+DQo8aHRtbCB4bWxucz0iaHR0cDovL3d3dy53My5vcmcvMTk5OS94aHRtbCI+DQo8IS0tIENPTlZFWCAjIGNvbnZlcnRlcl92ZXJzaW9uOjMuMSAjIGdlbmVyYXRlZF9vbjoyMDE0MDEwNC0wNDAzIC0tPg0KPGhlYWQ+CiAgIDxtZXRhIGh0dHAtZXF1aXY9ImNvbnRlbnQtdHlwZSIgY29udGVudD0idGV4dC9odG1sOyBjaGFyc2V0PXV0Zi04Ii8+CiAgIDxsaW5rIHR5cGU9InRleHQvY3NzIiByZWw9InN0eWxlc2hlZXQiCiAgICAgICAgIGhyZWY9Imh0dHA6Ly9wdWJsaWNhdGlvbnMuZXVyb3BhLmV1L3Jlc291cmNlL3ByZXNlbnRhdGlvbi1zdHlsZS1zaGVldC9vai9vai5jc3MiLz4KICAgPHRpdGxlPkxfMjAxMzIxM0VOLjAxMDAyMDAxLnhtbDwvdGl0bGU+CjwvaGVhZD4KPGJvZHk+CiAgIDx0YWJsZSB3aWR0aD0iMTAwJSIgYm9yZGVyPSIwIiBjZWxsc3BhY2luZz0iMCIgY2VsbHBhZGRpbmc9IjAiPgogICAgICA8Y29sIHdpZHRoPSIxMCUiLz4KICAgICAgPGNvbCB3aWR0aD0iMTAlIi8+CiAgICAgIDxjb2wgd2lkdGg9IjYwJSIvPgogICAgICA8Y29sIHdpZHRoPSIyMCUiLz4KICAgICAgPHRib2R5PgogICAgICAgICA8dHI+CiAgICAgICAgICAgIDx0ZD4KICAgICAgICAgICAgICAgPHAgY2xhc3M9ImhkLWRhdGUiPjguOC4yMDEzwqDCoMKgPC9wPgogICAgICAgICAgICA8L3RkPgogICAgICAgICAgICA8dGQ+CiAgICAgICAgICAgICAgIDxwIGNsYXNzPSJoZC1sZyI+RU48L3A+CiAgICAgICAgICAgIDwvdGQ+CiAgICAgICAgICAgIDx0ZD4KICAgICAgICAgICAgICAgPHAgY2xhc3M9ImhkLXRpIj5PZmZpY2lhbCBKb3VybmFsIG9mIHRoZSBFdXJvcGVhbiBVbmlvbjwvcD4KICAgICAgICAgICAgPC90ZD4KICAgICAgICAgICAgPHRkPgogICAgICAgICAgICAgICA8cCBjbGFzcz0iaGQtb2oiPkwgMjEzLzIwPC9wPgogICAgICAgICAgICA8L3RkPgogICAgICAgICA8L3RyPgogICAgICA8L3Rib2R5PgogICA8L3RhYmxlPgogICA8aHIgY2xhc3M9InNlcGFyYXRvciIvPgogICA8cCBjbGFzcz0iZG9jLXRpIiBpZD0iZDFlNDAtMjAtMSI+Q09NTUlTU0lPTiBJTVBMRU1FTlRJTkcgRElSRUNUSVZFIDIwMTMvNDUvRVU8L3A+CiAgIDxwIGNsYXNzPSJkb2MtdGkiPm9mIDcgQXVndXN0IDIwMTM8L3A+CiAgIDxwIGNsYXNzPSJkb2MtdGkiPmFtZW5kaW5nIENvdW5jaWwgRGlyZWN0aXZlcyAyMDAyLzU1L0VDIGFuZCAyMDA4LzcyL0VDIGFuZCBDb21taXNzaW9uIERpcmVjdGl2ZSAyMDA5LzE0NS9FQyBhcyByZWdhcmRzIHRoZSBib3RhbmljYWwgbmFtZSBvZiB0b21hdG88L3A+CiAgIDxwIGNsYXNzPSJkb2MtdGkiPihUZXh0IHdpdGggRUVBIHJlbGV2YW5jZSk8L3A+CiAgIDxwIGNsYXNzPSJub3JtYWwiPlRIRSBFVVJPUEVBTiBDT01NSVNTSU9OLDwvcD4KICAgPHAgY2xhc3M9Im5vcm1hbCI+SGF2aW5nIHJlZ2FyZCB0byB0aGUgVHJlYXR5IG9uIHRoZSBGdW5jdGlvbmluZyBvZiB0aGUgRXVyb3BlYW4gVW5pb24sPC9wPgogICA8cCBjbGFzcz0ibm9ybWFsIj5IYXZpbmcgcmVnYXJkIHRvIENvdW5jaWwgRGlyZWN0aXZlIDIwMDIvNTUvRUMgb2YgMTMgSnVuZSAyMDAyIG9uIHRoZSBtYXJrZXRpbmcgb2YgdmVnZXRhYmxlIHNlZWQ8YSBpZD0ibnRjMS1MXzIwMTMyMTNFTi4wMTAwMjAwMS1FMDAwMSIgaHJlZj0iI250cjEtTF8yMDEzMjEzRU4uMDEwMDIwMDEtRTAwMDEiPsKgKDxzcGFuIGNsYXNzPSJzdXBlciI+MTwvc3Bhbj4pPC9hPiwgYW5kIGluIHBhcnRpY3VsYXIgQXJ0aWNsZXMgMigyKSwgNDQoMiksIEFydGljbGUgNDUgYW5kIEFydGljbGUgNDgoMSkoYikgdGhlcmVvZiw8L3A+CiAgIDxwIGNsYXNzPSJub3JtYWwiPkhhdmluZyByZWdhcmQgdG8gQ291bmNpbCBEaXJlY3RpdmUgMjAwOC83Mi9FQyBvZiAxNSBKdWx5IDIwMDggb24gdGhlIG1hcmtldGluZyBvZiB2ZWdldGFibGUgcHJvcGFnYXRpbmcgYW5kIHBsYW50aW5nIG1hdGVyaWFsLCBvdGhlciB0aGFuIHNlZWQ8YSBpZD0ibnRjMi1MXzIwMTMyMTNFTi4wMTAwMjAwMS1FMDAwMiIgaHJlZj0iI250cjItTF8yMDEzMjEzRU4uMDEwMDIwMDEtRTAwMDIiPsKgKDxzcGFuIGNsYXNzPSJzdXBlciI+Mjwvc3Bhbj4pPC9hPiwgYW5kIGluIHBhcnRpY3VsYXIgQXJ0aWNsZSAxKDMpIHRoZXJlb2YsPC9wPgogICA8cCBjbGFzcz0ibm9ybWFsIj5XaGVyZWFzOjwvcD4KICAgPHRhYmxlIHdpZHRoPSIxMDAlIiBib3JkZXI9IjAiIGNlbGxzcGFjaW5nPSIwIiBjZWxscGFkZGluZz0iMCI+CiAgICAgIDxjb2wgd2lkdGg9IjQlIi8+CiAgICAgIDxjb2wgd2lkdGg9Ijk2JSIvPgogICAgICA8dGJvZHk+CiAgICAgICAgIDx0cj4KICAgICAgICAgICAgPHRkIHZhbGlnbj0idG9wIj4KICAgICAgICAgICAgICAgPHAgY2xhc3M9Im5vcm1hbCI+KDEpPC9wPgogICAgICAgICAgICA8L3RkPgogICAgICAgICAgICA8dGQgdmFsaWduPSJ0b3AiPgogICAgICAgICAgICAgICA8cCBjbGFzcz0ibm9ybWFsIj5JbiB0aGUgbGlnaHQgb2YgdGhlIGRldmVsb3BtZW50IG9mIHNjaWVudGlmaWMga25vd2xlZGdlLCB0aGUgSW50ZXJuYXRpb25hbCBDb2RlIG9mIEJvdGFuaWNhbCBOb21lbmNsYXR1cmUgKElDQk4pIGhhcyBiZWVuIHJldmlzZWQsIGluIHBhcnRpY3VsYXIgd2l0aCByZXNwZWN0IHRvIHRoZSBib3RhbmljYWwgbmFtZSBvZiB0aGUgc3BlY2llcyB0b21hdG8uPC9wPgogICAgICAgICAgICA8L3RkPgogICAgICAgICA8L3RyPgogICAgICA8L3Rib2R5PgogICA8L3RhYmxlPgogICA8dGFibGUgd2lkdGg9IjEwMCUiIGJvcmRlcj0iMCIgY2VsbHNwYWNpbmc9IjAiIGNlbGxwYWRkaW5nPSIwIj4KICAgICAgPGNvbCB3aWR0aD0iNCUiLz4KICAgICAgPGNvbCB3aWR0aD0iOTYlIi8+CiAgICAgIDx0Ym9keT4KICAgICAgICAgPHRyPgogICAgICAgICAgICA8dGQgdmFsaWduPSJ0b3AiPgogICAgICAgICAgICAgICA8cCBjbGFzcz0ibm9ybWFsIj4oMik8L3A+CiAgICAgICAgICAgIDwvdGQ+CiAgICAgICAgICAgIDx0ZCB2YWxpZ249InRvcCI+CiAgICAgICAgICAgICAgIDxwIGNsYXNzPSJub3JtYWwiPkluIG9yZGVyIHRvIHJlZmxlY3QgdGhhdCBkZXZlbG9wbWVudCwgRGlyZWN0aXZlcyAyMDAyLzU1L0VDLCAyMDA4LzcyL0VDIGFuZCBDb21taXNzaW9uIERpcmVjdGl2ZSAyMDA5LzE0NS9FQyBvZiAyNiBOb3ZlbWJlciAyMDA5IHByb3ZpZGluZyBmb3IgY2VydGFpbiBkZXJvZ2F0aW9ucywgZm9yIGFjY2VwdGFuY2Ugb2YgdmVnZXRhYmxlIGxhbmRyYWNlcyBhbmQgdmFyaWV0aWVzIHdoaWNoIGhhdmUgYmVlbiB0cmFkaXRpb25hbGx5IGdyb3duIGluIHBhcnRpY3VsYXIgbG9jYWxpdGllcyBhbmQgcmVnaW9ucyBhbmQgYXJlIHRocmVhdGVuZWQgYnkgZ2VuZXRpYyBlcm9zaW9uIGFuZCBvZiB2ZWdldGFibGUgdmFyaWV0aWVzIHdpdGggbm8gaW50cmluc2ljIHZhbHVlIGZvciBjb21tZXJjaWFsIGNyb3AgcHJvZHVjdGlvbiBidXQgZGV2ZWxvcGVkIGZvciBncm93aW5nIHVuZGVyIHBhcnRpY3VsYXIgY29uZGl0aW9ucyBhbmQgZm9yIG1hcmtldGluZyBvZiBzZWVkIG9mIHRob3NlIGxhbmRyYWNlcyBhbmQgdmFyaWV0aWVzPGEgaWQ9Im50YzMtTF8yMDEzMjEzRU4uMDEwMDIwMDEtRTAwMDMiIGhyZWY9IiNudHIzLUxfMjAxMzIxM0VOLjAxMDAyMDAxLUUwMDAzIj7CoCg8c3BhbiBjbGFzcz0ic3VwZXIiPjM8L3NwYW4+KTwvYT4gc2hvdWxkIHRoZXJlZm9yZSBiZSBhbWVuZGVkIGFjY29yZGluZ2x5LjwvcD4KICAgICAgICAgICAgPC90ZD4KICAgICAgICAgPC90cj4KICAgICAgPC90Ym9keT4KICAgPC90YWJsZT4KICAgPHRhYmxlIHdpZHRoPSIxMDAlIiBib3JkZXI9IjAiIGNlbGxzcGFjaW5nPSIwIiBjZWxscGFkZGluZz0iMCI+CiAgICAgIDxjb2wgd2lkdGg9IjQlIi8+CiAgICAgIDxjb2wgd2lkdGg9Ijk2JSIvPgogICAgICA8dGJvZHk+CiAgICAgICAgIDx0cj4KICAgICAgICAgICAgPHRkIHZhbGlnbj0idG9wIj4KICAgICAgICAgICAgICAgPHAgY2xhc3M9Im5vcm1hbCI+KDMpPC9wPgogICAgICAgICAgICA8L3RkPgogICAgICAgICAgICA8dGQgdmFsaWduPSJ0b3AiPgogICAgICAgICAgICAgICA8cCBjbGFzcz0ibm9ybWFsIj5UaGUgbWVhc3VyZXMgcHJvdmlkZWQgZm9yIGluIHRoaXMgRGlyZWN0aXZlIGFyZSBpbiBhY2NvcmRhbmNlIHdpdGggdGhlIG9waW5pb24gb2YgdGhlIFN0YW5kaW5nIENvbW1pdHRlZSBvbiBTZWVkcyBhbmQgUHJvcGFnYXRpbmcgTWF0ZXJpYWwgZm9yIEFncmljdWx0dXJlLCBIb3J0aWN1bHR1cmUgYW5kIEZvcmVzdHJ5LDwvcD4KICAgICAgICAgICAgPC90ZD4KICAgICAgICAgPC90cj4KICAgICAgPC90Ym9keT4KICAgPC90YWJsZT4KICAgPHAgY2xhc3M9Im5vcm1hbCI+SEFTIEFET1BURUQgVEhJUyBESVJFQ1RJVkU6PC9wPgogICA8cCBpZD0iZDFlMTE1LTIwLTEiIGNsYXNzPSJ0aS1hcnQiPkFydGljbGUgMTwvcD4KICAgPHAgY2xhc3M9InN0aS1hcnQiPkFtZW5kbWVudHMgdG8gRGlyZWN0aXZlIDIwMDIvNTUvRUM8L3A+CiAgIDxwIGNsYXNzPSJub3JtYWwiPkRpcmVjdGl2ZSAyMDAyLzU1L0VDIGlzIGFtZW5kZWQgYXMgZm9sbG93czo8L3A+CiAgIDx0YWJsZSB3aWR0aD0iMTAwJSIgYm9yZGVyPSIwIiBjZWxsc3BhY2luZz0iMCIgY2VsbHBhZGRpbmc9IjAiPgogICAgICA8Y29sIHdpZHRoPSI0JSIvPgogICAgICA8Y29sIHdpZHRoPSI5NiUiLz4KICAgICAgPHRib2R5PgogICAgICAgICA8dHI+CiAgICAgICAgICAgIDx0ZCB2YWxpZ249InRvcCI+CiAgICAgICAgICAgICAgIDxwIGNsYXNzPSJub3JtYWwiPigxKTwvcD4KICAgICAgICAgICAgPC90ZD4KICAgICAgICAgICAgPHRkIHZhbGlnbj0idG9wIj4KICAgICAgICAgICAgICAgPHAgY2xhc3M9Im5vcm1hbCI+aW4gQXJ0aWNsZSAyKDEpKGIpIHRoZSB3b3JkcyDigJg8c3BhbiBjbGFzcz0iaXRhbGljIj5MeWNvcGVyc2ljb24gZXNjdWxlbnR1bTwvc3Bhbj4gTWlsbC7igJkgYXJlIHJlcGxhY2VkIGJ5IHRoZSB3b3JkcyDigJg8c3BhbiBjbGFzcz0iaXRhbGljIj5Tb2xhbnVtIGx5Y29wZXJzaWN1bTwvc3Bhbj4gTC7igJk7PC9wPgogICAgICAgICAgICA8L3RkPgogICAgICAgICA8L3RyPgogICAgICA8L3Rib2R5PgogICA8L3RhYmxlPgogICA8dGFibGUgd2lkdGg9IjEwMCUiIGJvcmRlcj0iMCIgY2VsbHNwYWNpbmc9IjAiIGNlbGxwYWRkaW5nPSIwIj4KICAgICAgPGNvbCB3aWR0aD0iNCUiLz4KICAgICAgPGNvbCB3aWR0aD0iOTYlIi8+CiAgICAgIDx0Ym9keT4KICAgICAgICAgPHRyPgogICAgICAgICAgICA8dGQgdmFsaWduPSJ0b3AiPgogICAgICAgICAgICAgICA8cCBjbGFzcz0ibm9ybWFsIj4oMik8L3A+CiAgICAgICAgICAgIDwvdGQ+CiAgICAgICAgICAgIDx0ZCB2YWxpZ249InRvcCI+CiAgICAgICAgICAgICAgIDxwIGNsYXNzPSJub3JtYWwiPmluIHRoZSB0YWJsZSBpbiBwb2ludCAzKGEpIG9mIEFubmV4IElJLCB0aGUgd29yZHMg4oCYPHNwYW4gY2xhc3M9Iml0YWxpYyI+THljb3BlcnNpY29uIGVzY3VsZW50dW08L3NwYW4+4oCZIGFyZSByZXBsYWNlZCBieSB0aGUgd29yZHMg4oCYPHNwYW4gY2xhc3M9Iml0YWxpYyI+U29sYW51bSBseWNvcGVyc2ljdW08L3NwYW4+IEwu4oCZOzwvcD4KICAgICAgICAgICAgPC90ZD4KICAgICAgICAgPC90cj4KICAgICAgPC90Ym9keT4KICAgPC90YWJsZT4KICAgPHRhYmxlIHdpZHRoPSIxMDAlIiBib3JkZXI9IjAiIGNlbGxzcGFjaW5nPSIwIiBjZWxscGFkZGluZz0iMCI+CiAgICAgIDxjb2wgd2lkdGg9IjQlIi8+CiAgICAgIDxjb2wgd2lkdGg9Ijk2JSIvPgogICAgICA8dGJvZHk+CiAgICAgICAgIDx0cj4KICAgICAgICAgICAgPHRkIHZhbGlnbj0idG9wIj4KICAgICAgICAgICAgICAgPHAgY2xhc3M9Im5vcm1hbCI+KDMpPC9wPgogICAgICAgICAgICA8L3RkPgogICAgICAgICAgICA8dGQgdmFsaWduPSJ0b3AiPgogICAgICAgICAgICAgICA8cCBjbGFzcz0ibm9ybWFsIj5pbiB0aGUgdGFibGUgaW4gcG9pbnQgMiBvZiBBbm5leCBJSUksIHRoZSB3b3JkcyDigJg8c3BhbiBjbGFzcz0iaXRhbGljIj5MeWNvcGVyc2ljb24gZXNjdWxlbnR1bTwvc3Bhbj7igJkgYXJlIHJlcGxhY2VkIGJ5IHRoZSB3b3JkcyDigJg8c3BhbiBjbGFzcz0iaXRhbGljIj5Tb2xhbnVtIGx5Y29wZXJzaWN1bTwvc3Bhbj4gTC7igJkuPC9wPgogICAgICAgICAgICA8L3RkPgogICAgICAgICA8L3RyPgogICAgICA8L3Rib2R5PgogICA8L3RhYmxlPgogICA8cCBpZD0iZDFlMTc2LTIwLTEiIGNsYXNzPSJ0aS1hcnQiPkFydGljbGUgMjwvcD4KICAgPHAgY2xhc3M9InN0aS1hcnQiPkFtZW5kbWVudHMgdG8gRGlyZWN0aXZlIDIwMDgvNzIvRUM8L3A+CiAgIDxwIGNsYXNzPSJub3JtYWwiPkluIHRoZSB0YWJsZSBpbiBBbm5leCBJSSB0byBEaXJlY3RpdmUgMjAwOC83Mi9FQywgdGhlIHdvcmRzIOKAmDxzcGFuIGNsYXNzPSJpdGFsaWMiPkx5Y29wZXJzaWNvbiBlc2N1bGVudHVtPC9zcGFuPiBNaWxsLuKAmSBhcmUgcmVwbGFjZWQgYnkgdGhlIHdvcmRzIOKAmDxzcGFuIGNsYXNzPSJpdGFsaWMiPlNvbGFudW0gbHljb3BlcnNpY3VtPC9zcGFuPiBMLuKAmS48L3A+CiAgIDxwIGlkPSJkMWUxOTUtMjAtMSIgY2xhc3M9InRpLWFydCI+QXJ0aWNsZSAzPC9wPgogICA8cCBjbGFzcz0ic3RpLWFydCI+QW1lbmRtZW50cyB0byBEaXJlY3RpdmUgMjAwOS8xNDUvRUM8L3A+CiAgIDxwIGNsYXNzPSJub3JtYWwiPkRpcmVjdGl2ZSAyMDA5LzE0NS9FQyBpcyBhbWVuZGVkIGFzIGZvbGxvd3M6PC9wPgogICA8dGFibGUgd2lkdGg9IjEwMCUiIGJvcmRlcj0iMCIgY2VsbHNwYWNpbmc9IjAiIGNlbGxwYWRkaW5nPSIwIj4KICAgICAgPGNvbCB3aWR0aD0iNCUiLz4KICAgICAgPGNvbCB3aWR0aD0iOTYlIi8+CiAgICAgIDx0Ym9keT4KICAgICAgICAgPHRyPgogICAgICAgICAgICA8dGQgdmFsaWduPSJ0b3AiPgogICAgICAgICAgICAgICA8cCBjbGFzcz0ibm9ybWFsIj4oMSk8L3A+CiAgICAgICAgICAgIDwvdGQ+CiAgICAgICAgICAgIDx0ZCB2YWxpZ249InRvcCI+CiAgICAgICAgICAgICAgIDxwIGNsYXNzPSJub3JtYWwiPmluIHRoZSB0YWJsZSBpbiBBbm5leCBJLCB0aGUgd29yZHMg4oCYPHNwYW4gY2xhc3M9Iml0YWxpYyI+THljb3BlcnNpY29uIGVzY3VsZW50dW08L3NwYW4+IE1pbGwu4oCZIGFyZSByZXBsYWNlZCBieSDigJg8c3BhbiBjbGFzcz0iaXRhbGljIj5Tb2xhbnVtIGx5Y29wZXJzaWN1bTwvc3Bhbj4gTC7igJk7PC9wPgogICAgICAgICAgICA8L3RkPgogICAgICAgICA8L3RyPgogICAgICA8L3Rib2R5PgogICA8L3RhYmxlPgogICA8dGFibGUgd2lkdGg9IjEwMCUiIGJvcmRlcj0iMCIgY2VsbHNwYWNpbmc9IjAiIGNlbGxwYWRkaW5nPSIwIj4KICAgICAgPGNvbCB3aWR0aD0iNCUiLz4KICAgICAgPGNvbCB3aWR0aD0iOTYlIi8+CiAgICAgIDx0Ym9keT4KICAgICAgICAgPHRyPgogICAgICAgICAgICA8dGQgdmFsaWduPSJ0b3AiPgogICAgICAgICAgICAgICA8cCBjbGFzcz0ibm9ybWFsIj4oMik8L3A+CiAgICAgICAgICAgIDwvdGQ+CiAgICAgICAgICAgIDx0ZCB2YWxpZ249InRvcCI+CiAgICAgICAgICAgICAgIDxwIGNsYXNzPSJub3JtYWwiPmluIHRoZSB0YWJsZSBpbiBBbm5leCBJSSwgdGhlIHdvcmRzIOKAmDxzcGFuIGNsYXNzPSJpdGFsaWMiPkx5Y29wZXJzaWNvbiBlc2N1bGVudHVtPC9zcGFuPiBNaWxsLuKAmSBhcmUgcmVwbGFjZWQgYnkg4oCYPHNwYW4gY2xhc3M9Iml0YWxpYyI+U29sYW51bSBseWNvcGVyc2ljdW08L3NwYW4+IEwu4oCZLjwvcD4KICAgICAgICAgICAgPC90ZD4KICAgICAgICAgPC90cj4KICAgICAgPC90Ym9keT4KICAgPC90YWJsZT4KICAgPHAgaWQ9ImQxZTI0MC0yMC0xIiBjbGFzcz0idGktYXJ0Ij5BcnRpY2xlIDQ8L3A+CiAgIDxwIGNsYXNzPSJzdGktYXJ0Ij5UcmFuc3Bvc2l0aW9uPC9wPgogICA8cCBjbGFzcz0ibm9ybWFsIj4xLsKgwqDCoE1lbWJlciBTdGF0ZXMgc2hhbGwgYnJpbmcgaW50byBmb3JjZSB0aGUgbGF3cywgcmVndWxhdGlvbnMgYW5kIGFkbWluaXN0cmF0aXZlIHByb3Zpc2lvbnMgbmVjZXNzYXJ5IHRvIGNvbXBseSB3aXRoIHRoaXMgRGlyZWN0aXZlIGJ5IDMxIE1hcmNoIDIwMTQgYXQgdGhlIGxhdGVzdC4gVGhleSBzaGFsbCBmb3J0aHdpdGggY29tbXVuaWNhdGUgdG8gdGhlIENvbW1pc3Npb24gdGhlIHRleHQgb2YgdGhvc2UgcHJvdmlzaW9ucy48L3A+CiAgIDxwIGNsYXNzPSJub3JtYWwiPldoZW4gTWVtYmVyIFN0YXRlcyBhZG9wdCB0aG9zZSBwcm92aXNpb25zLCB0aGV5IHNoYWxsIGNvbnRhaW4gYSByZWZlcmVuY2UgdG8gdGhpcyBEaXJlY3RpdmUgb3IgYmUgYWNjb21wYW5pZWQgYnkgc3VjaCBhIHJlZmVyZW5jZSBvbiB0aGUgb2NjYXNpb24gb2YgdGhlaXIgb2ZmaWNpYWwgcHVibGljYXRpb24uIE1lbWJlciBTdGF0ZXMgc2hhbGwgZGV0ZXJtaW5lIGhvdyBzdWNoIHJlZmVyZW5jZSBpcyB0byBiZSBtYWRlLjwvcD4KICAgPHAgY2xhc3M9Im5vcm1hbCI+Mi7CoMKgwqBNZW1iZXIgU3RhdGVzIHNoYWxsIGNvbW11bmljYXRlIHRvIHRoZSBDb21taXNzaW9uIHRoZSB0ZXh0IG9mIHRoZSBtYWluIHByb3Zpc2lvbnMgb2YgbmF0aW9uYWwgbGF3IHdoaWNoIHRoZXkgYWRvcHQgaW4gdGhlIGZpZWxkIGNvdmVyZWQgYnkgdGhpcyBEaXJlY3RpdmUuPC9wPgogICA8cCBpZD0iZDFlMjYwLTIwLTEiIGNsYXNzPSJ0aS1hcnQiPkFydGljbGUgNTwvcD4KICAgPHAgY2xhc3M9InN0aS1hcnQiPkVudHJ5IGludG8gZm9yY2U8L3A+CiAgIDxwIGNsYXNzPSJub3JtYWwiPlRoaXMgRGlyZWN0aXZlIHNoYWxsIGVudGVyIGludG8gZm9yY2Ugb24gdGhlIHR3ZW50aWV0aCBkYXkgZm9sbG93aW5nIHRoYXQgb2YgaXRzIHB1YmxpY2F0aW9uIGluIHRoZSA8c3BhbiBjbGFzcz0iaXRhbGljIj5PZmZpY2lhbCBKb3VybmFsIG9mIHRoZSBFdXJvcGVhbiBVbmlvbjwvc3Bhbj4uPC9wPgogICA8cCBpZD0iZDFlMjcwLTIwLTEiIGNsYXNzPSJ0aS1hcnQiPkFydGljbGUgNjwvcD4KICAgPHAgY2xhc3M9InN0aS1hcnQiPkFkZHJlc3NlZXM8L3A+CiAgIDxwIGNsYXNzPSJub3JtYWwiPlRoaXMgRGlyZWN0aXZlIGlzIGFkZHJlc3NlZCB0byB0aGUgTWVtYmVyIFN0YXRlcy48L3A+CiAgIDxkaXYgY2xhc3M9ImZpbmFsIj4KICAgICAgPHAgY2xhc3M9Im5vcm1hbCI+RG9uZSBhdCBCcnVzc2VscywgNyBBdWd1c3QgMjAxMy48L3A+CiAgICAgIDxkaXYgY2xhc3M9InNpZ25hdG9yeSI+CiAgICAgICAgIDxwIGNsYXNzPSJzaWduYXRvcnkiPgogICAgICAgICAgICA8c3BhbiBjbGFzcz0iaXRhbGljIj5Gb3IgdGhlIENvbW1pc3Npb248L3NwYW4+CiAgICAgICAgIDwvcD4KICAgICAgICAgPHAgY2xhc3M9InNpZ25hdG9yeSI+CiAgICAgICAgICAgIDxzcGFuIGNsYXNzPSJpdGFsaWMiPlRoZSBQcmVzaWRlbnQ8L3NwYW4+CiAgICAgICAgIDwvcD4KICAgICAgICAgPHAgY2xhc3M9InNpZ25hdG9yeSI+Sm9zw6kgTWFudWVsIEJBUlJPU088L3A+CiAgICAgIDwvZGl2PgogICA8L2Rpdj4KICAgPGhyIGNsYXNzPSJub3RlIi8+CiAgIDxwIGNsYXNzPSJub3RlIj4KICAgICAgPGEgaWQ9Im50cjEtTF8yMDEzMjEzRU4uMDEwMDIwMDEtRTAwMDEiIGhyZWY9IiNudGMxLUxfMjAxMzIxM0VOLjAxMDAyMDAxLUUwMDAxIj4oPHNwYW4gY2xhc3M9InN1cGVyIj4xPC9zcGFuPik8L2E+wqDCoDxhIGhyZWY9Imh0dHA6Ly9wdWJsaWNhdGlvbnMuZXVyb3BhLmV1L3Jlc291cmNlL29qL0pPTF8yMDAyXzE5M19SX1RPQyI+T0ogTCAxOTMsIDIwLjcuMjAwMiwgcC4gMzM8L2E+LjwvcD4KICAgPHAgY2xhc3M9Im5vdGUiPgogICAgICA8YSBpZD0ibnRyMi1MXzIwMTMyMTNFTi4wMTAwMjAwMS1FMDAwMiIgaHJlZj0iI250YzItTF8yMDEzMjEzRU4uMDEwMDIwMDEtRTAwMDIiPig8c3BhbiBjbGFzcz0ic3VwZXIiPjI8L3NwYW4+KTwvYT7CoMKgPGEgaHJlZj0iaHR0cDovL3B1YmxpY2F0aW9ucy5ldXJvcGEuZXUvcmVzb3VyY2Uvb2ovSk9MXzIwMDhfMjA1X1JfVE9DIj5PSiBMIDIwNSwgMS44LjIwMDgsIHAuIDI4PC9hPi48L3A+CiAgIDxwIGNsYXNzPSJub3RlIj4KICAgICAgPGEgaWQ9Im50cjMtTF8yMDEzMjEzRU4uMDEwMDIwMDEtRTAwMDMiIGhyZWY9IiNudGMzLUxfMjAxMzIxM0VOLjAxMDAyMDAxLUUwMDAzIj4oPHNwYW4gY2xhc3M9InN1cGVyIj4zPC9zcGFuPik8L2E+wqDCoDxhIGhyZWY9Imh0dHA6Ly9wdWJsaWNhdGlvbnMuZXVyb3BhLmV1L3Jlc291cmNlL29qL0pPTF8yMDA5XzMxMl9SX1RPQyI+T0ogTCAzMTIsIDI3LjExLjIwMDksIHAuIDQ0PC9hPi48L3A+CiAgIDxociBjbGFzcz0iZG9jLWVuZCIvPgo8L2JvZHk+DQo8L2h0bWw+DQo=',\n",
       "  'content_type': 'xhtml'}]"
      ]
     },
     "execution_count": 35,
     "metadata": {},
     "output_type": "execute_result"
    }
   ],
   "source": [
    "json_file"
   ]
  },
  {
   "cell_type": "code",
   "execution_count": 21,
   "metadata": {},
   "outputs": [
    {
     "data": {
      "text/plain": [
       "'testing\\n'"
      ]
     },
     "execution_count": 21,
     "metadata": {},
     "output_type": "execute_result"
    }
   ],
   "source": [
    "a='testing\\n'\n",
    "a"
   ]
  },
  {
   "cell_type": "code",
   "execution_count": 22,
   "metadata": {},
   "outputs": [
    {
     "data": {
      "text/plain": [
       "'testing '"
      ]
     },
     "execution_count": 22,
     "metadata": {},
     "output_type": "execute_result"
    }
   ],
   "source": [
    "a.replace( \"\\n\", \" \" )"
   ]
  },
  {
   "cell_type": "code",
   "execution_count": 23,
   "metadata": {},
   "outputs": [
    {
     "data": {
      "text/plain": [
       "'testing\\n'"
      ]
     },
     "execution_count": 23,
     "metadata": {},
     "output_type": "execute_result"
    }
   ],
   "source": [
    "a"
   ]
  },
  {
   "cell_type": "markdown",
   "metadata": {},
   "source": [
    "### Processing of html's"
   ]
  },
  {
   "cell_type": "code",
   "execution_count": 17,
   "metadata": {},
   "outputs": [
    {
     "name": "stdout",
     "output_type": "stream",
     "text": [
      "Avis juridique important Commission Regulation (EEC) No 2348/80 of 9 September 1980 amending Regulation (EEC) No 2192/80 fixing the yields of olives and olive oil for the 1979/80 marketing year  Official Journal L 237 , 10/09/1980 P. 0005 - 0005 ****( 1 ) OJ NO 172 , 30 . 9 . 1966 , P . 3025/66 .  ( 2 ) OJ NO L 186 , 19 . 7 . 1980 , P . 1 .  ( 3 ) OJ NO L 218 , 19 . 8 . 1980 , P . 5 .    COMMISSION REGULATION ( EEC ) NO 2348/80   OF 9 SEPTEMBER 1980   AMENDING REGULATION ( EEC ) NO 2192/80 FIXING THE YIELDS OF OLIVES AND OLIVE OIL FOR THE 1979/80 MARKETING YEAR   THE COMMISSION OF THE EUROPEAN   COMMUNITIES ,   HAVING REGARD TO THE TREATY ESTABLISHING THE EUROPEAN ECONOMIC COMMUNITY ,   HAVING REGARD TO COUNCIL REGULATION NO 136/66/EEC OF 22 SEPTEMBER 1966 ON THE ESTABLISHMENT OF A COMMON ORGANIZATION OF THE MARKET IN OILS AND FATS ( 1 ), AS LAST AMENDED BY REGULATION ( EEC ) NO 1917/80 ( 2 ), AND IN PARTICULAR ARTICLE 5  ( 5 ) THEREOF ,   WHEREAS COMMISSION REGULATION ( EEC ) NO 2192/80 ( 3 ) FIXED THE YIELDS OF OLIVES AND OLIVE OIL FOR THE 1979/80 MARKETING YEAR ; WHEREAS A CHECK HAS REVEALED THAT , AS THE RESULT OF AN ERROR , THE ANNEX TO THAT REGULATION DOES NOT CORRESPOND TO THAT SUBMITTED FOR THE OPINION OF THE MANAGEMENT COMMITTEE ; WHEREAS IT IS THEREFORE NECESSARY TO AMEND THE REGULATION IN QUESTION ,   HAS ADOPTED THIS REGULATION :   ARTICLE 1   PART A OF ANNEX II TO REGULATION ( EEC ) NO 2192/80 IS HEREBY AMENDED AS FOLLOWS :   -  PROVINCE OF PISA , POINT 2 :   -  IN PLACE OF : ' VICCHIANO ' ,   -  READ : ' VECCHIANO , VICOPISANO ' ;   -  PROVINCE OF CATANZARO , POINT 6 READS AS FOLLOWS :   ' 6 . ARENA , DRAPIA , FILOGASO , IONADI , IOPPOLO , MARCELLINARA , CORTALE , MOLETO , POLIA , PIZZO , PIZZONI , RICADI , SAN COSTANTINO , SANT ' ONOFRIO , SERRA STRETTA , SORIANELLO , SORIANO , SPILINGA , STEFANACONI , TROPEA , VALLELONGA , VAZZANO , VIBO VALENTIA , ZUNGRI , BADOLATO , CIRO MARINA , CROPANI , FEROLETO , FALERNA , GUARDAVALLE , MELISSA , MONTAURO , MONTEPAONE , SERSALE , SETTINGIANO , SIMERI CRICHI , SOVERIA SIMERI , STALETTI , UMBRIATICO , VALLEFIORITA , SANT ' ANDREA APOSTOLO . '   ARTICLE 2   THIS REGULATION SHALL ENTER INTO FORCE ON THE DAY OF ITS PUBLICATION IN THE OFFICIAL JOURNAL OF THE EUROPEAN COMMUNITIES .   IT SHALL APPLY WITH EFFECT FROM 22 AUGUST 1980 .   THIS REGULATION SHALL BE BINDING IN ITS ENTIRETY AND DIRECTLY APPLICABLE IN ALL MEMBER STATES .   DONE AT BRUSSELS , 9 SEPTEMBER 1980 .   FOR THE COMMISSION   FINN GUNDELACH   VICE-PRESIDENT **** ( 1 ) OJ NO 172 , 30 . 9 . 1966 , P . 3025/66 . ( 2 ) OJ NO L 186 , 19 . 7 . 1980 , P . 1 . ( 3 ) OJ NO L 218 , 19 . 8 . 1980 , P . 5 . COMMISSION REGULATION ( EEC ) NO 2348/80 OF 9 SEPTEMBER 1980 AMENDING REGULATION ( EEC ) NO 2192/80 FIXING THE YIELDS OF OLIVES AND OLIVE OIL FOR THE 1979/80 MARKETING YEAR THE COMMISSION OF THE EUROPEAN COMMUNITIES , HAVING REGARD TO THE TREATY ESTABLISHING THE EUROPEAN ECONOMIC COMMUNITY , HAVING REGARD TO COUNCIL REGULATION NO 136/66/EEC OF 22 SEPTEMBER 1966 ON THE ESTABLISHMENT OF A COMMON ORGANIZATION OF THE MARKET IN OILS AND FATS ( 1 ), AS LAST AMENDED BY REGULATION ( EEC ) NO 1917/80 ( 2 ), AND IN PARTICULAR ARTICLE 5  ( 5 ) THEREOF , WHEREAS COMMISSION REGULATION ( EEC ) NO 2192/80 ( 3 ) FIXED THE YIELDS OF OLIVES AND OLIVE OIL FOR THE 1979/80 MARKETING YEAR ; WHEREAS A CHECK HAS REVEALED THAT , AS THE RESULT OF AN ERROR , THE ANNEX TO THAT REGULATION DOES NOT CORRESPOND TO THAT SUBMITTED FOR THE OPINION OF THE MANAGEMENT COMMITTEE ; WHEREAS IT IS THEREFORE NECESSARY TO AMEND THE REGULATION IN QUESTION , HAS ADOPTED THIS REGULATION : ARTICLE 1 PART A OF ANNEX II TO REGULATION ( EEC ) NO 2192/80 IS HEREBY AMENDED AS FOLLOWS : -  PROVINCE OF PISA , POINT 2 : -  IN PLACE OF : ' VICCHIANO ' , -  READ : ' VECCHIANO , VICOPISANO ' ; -  PROVINCE OF CATANZARO , POINT 6 READS AS FOLLOWS : ' 6 . ARENA , DRAPIA , FILOGASO , IONADI , IOPPOLO , MARCELLINARA , CORTALE , MOLETO , POLIA , PIZZO , PIZZONI , RICADI , SAN COSTANTINO , SANT ' ONOFRIO , SERRA STRETTA , SORIANELLO , SORIANO , SPILINGA , STEFANACONI , TROPEA , VALLELONGA , VAZZANO , VIBO VALENTIA , ZUNGRI , BADOLATO , CIRO MARINA , CROPANI , FEROLETO , FALERNA , GUARDAVALLE , MELISSA , MONTAURO , MONTEPAONE , SERSALE , SETTINGIANO , SIMERI CRICHI , SOVERIA SIMERI , STALETTI , UMBRIATICO , VALLEFIORITA , SANT ' ANDREA APOSTOLO . ' ARTICLE 2 THIS REGULATION SHALL ENTER INTO FORCE ON THE DAY OF ITS PUBLICATION IN THE OFFICIAL JOURNAL OF THE EUROPEAN COMMUNITIES . IT SHALL APPLY WITH EFFECT FROM 22 AUGUST 1980 . THIS REGULATION SHALL BE BINDING IN ITS ENTIRETY AND DIRECTLY APPLICABLE IN ALL MEMBER STATES . DONE AT BRUSSELS , 9 SEPTEMBER 1980 . FOR THE COMMISSION FINN GUNDELACH VICE-PRESIDENT\n"
     ]
    }
   ],
   "source": [
    "json_file=htmls[100]\n",
    "decoded_content=base64.b64decode( json_file[1]['content']  ).decode( 'utf-8' )\n",
    "\n",
    "from cleaning import clean_html, delete_annexes\n",
    "articles=clean_html( decoded_content )\n",
    "articles=delete_annexes(articles)\n",
    "\n",
    "articles_text=\"\\n\".join( articles )\n",
    "print(articles_text.replace(  \"\\n\", \" \" ))"
   ]
  },
  {
   "cell_type": "code",
   "execution_count": null,
   "metadata": {},
   "outputs": [],
   "source": []
  },
  {
   "cell_type": "code",
   "execution_count": null,
   "metadata": {},
   "outputs": [],
   "source": []
  },
  {
   "cell_type": "code",
   "execution_count": null,
   "metadata": {},
   "outputs": [],
   "source": []
  }
 ],
 "metadata": {
  "kernelspec": {
   "display_name": "Python 3",
   "language": "python",
   "name": "python3"
  },
  "language_info": {
   "codemirror_mode": {
    "name": "ipython",
    "version": 3
   },
   "file_extension": ".py",
   "mimetype": "text/x-python",
   "name": "python",
   "nbconvert_exporter": "python",
   "pygments_lexer": "ipython3",
   "version": "3.7.3"
  }
 },
 "nbformat": 4,
 "nbformat_minor": 4
}
